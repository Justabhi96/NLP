{
  "nbformat": 4,
  "nbformat_minor": 0,
  "metadata": {
    "colab": {
      "name": "NLP - 1. Spacy basics",
      "provenance": [],
      "collapsed_sections": [],
      "authorship_tag": "ABX9TyM2E5KK+8OI9JJJ5gSpRLLe",
      "include_colab_link": true
    },
    "kernelspec": {
      "name": "python3",
      "display_name": "Python 3"
    }
  },
  "cells": [
    {
      "cell_type": "markdown",
      "metadata": {
        "id": "view-in-github",
        "colab_type": "text"
      },
      "source": [
        "<a href=\"https://colab.research.google.com/github/Justabhi96/NLP/blob/master/1_Spacy_basics.ipynb\" target=\"_parent\"><img src=\"https://colab.research.google.com/assets/colab-badge.svg\" alt=\"Open In Colab\"/></a>"
      ]
    },
    {
      "cell_type": "code",
      "metadata": {
        "id": "oUv-gKo3TKwk",
        "colab_type": "code",
        "colab": {}
      },
      "source": [
        "import spacy"
      ],
      "execution_count": 0,
      "outputs": []
    },
    {
      "cell_type": "markdown",
      "metadata": {
        "id": "6tt5-GDJWscM",
        "colab_type": "text"
      },
      "source": [
        "download english language data"
      ]
    },
    {
      "cell_type": "code",
      "metadata": {
        "id": "XBlAqI8SULjj",
        "colab_type": "code",
        "outputId": "b1087b5b-6ddf-40ab-95ac-bcfa92619d6e",
        "colab": {
          "base_uri": "https://localhost:8080/",
          "height": 159
        }
      },
      "source": [
        "!python -m spacy download en"
      ],
      "execution_count": 0,
      "outputs": [
        {
          "output_type": "stream",
          "text": [
            "Requirement already satisfied: en_core_web_sm==2.1.0 from https://github.com/explosion/spacy-models/releases/download/en_core_web_sm-2.1.0/en_core_web_sm-2.1.0.tar.gz#egg=en_core_web_sm==2.1.0 in /usr/local/lib/python3.6/dist-packages (2.1.0)\n",
            "\u001b[38;5;2m✔ Download and installation successful\u001b[0m\n",
            "You can now load the model via spacy.load('en_core_web_sm')\n",
            "\u001b[38;5;2m✔ Linking successful\u001b[0m\n",
            "/usr/local/lib/python3.6/dist-packages/en_core_web_sm -->\n",
            "/usr/local/lib/python3.6/dist-packages/spacy/data/en\n",
            "You can now load the model via spacy.load('en')\n"
          ],
          "name": "stdout"
        }
      ]
    },
    {
      "cell_type": "code",
      "metadata": {
        "id": "cdr1-3YfWfRZ",
        "colab_type": "code",
        "colab": {}
      },
      "source": [
        "# loading a model\n",
        "nlp = spacy.load(\"en_core_web_sm\")"
      ],
      "execution_count": 0,
      "outputs": []
    },
    {
      "cell_type": "code",
      "metadata": {
        "id": "wV0OMVLOY6Tw",
        "colab_type": "code",
        "colab": {}
      },
      "source": [
        "doc = nlp(\"Tesla is looking to buy U.S. startup for $6 million.\")"
      ],
      "execution_count": 0,
      "outputs": []
    },
    {
      "cell_type": "code",
      "metadata": {
        "id": "X7Qn4DU9Zz_i",
        "colab_type": "code",
        "outputId": "0e844ac8-a286-426a-fbcb-ba0469629e0b",
        "colab": {
          "base_uri": "https://localhost:8080/",
          "height": 225
        }
      },
      "source": [
        "# pos - part of speech\n",
        "# syntactical dependency\n",
        "for token in doc:\n",
        "  print(f\"{token.text:{10}} {token.pos_:{8}} {token.dep_}\")"
      ],
      "execution_count": 0,
      "outputs": [
        {
          "output_type": "stream",
          "text": [
            "Tesla      PROPN    nsubj\n",
            "is         VERB     aux\n",
            "looking    VERB     ROOT\n",
            "to         PART     aux\n",
            "buy        VERB     xcomp\n",
            "U.S.       PROPN    compound\n",
            "startup    NOUN     dobj\n",
            "for        ADP      prep\n",
            "$          SYM      quantmod\n",
            "6          NUM      compound\n",
            "million    NUM      pobj\n",
            ".          PUNCT    punct\n"
          ],
          "name": "stdout"
        }
      ]
    },
    {
      "cell_type": "code",
      "metadata": {
        "id": "WAIYehq7aL-S",
        "colab_type": "code",
        "outputId": "d32cd985-5a28-4501-f99a-8c1ff84ed673",
        "colab": {
          "base_uri": "https://localhost:8080/",
          "height": 69
        }
      },
      "source": [
        "nlp.pipeline"
      ],
      "execution_count": 0,
      "outputs": [
        {
          "output_type": "execute_result",
          "data": {
            "text/plain": [
              "[('tagger', <spacy.pipeline.pipes.Tagger at 0x7fe6022f8a20>),\n",
              " ('parser', <spacy.pipeline.pipes.DependencyParser at 0x7fe6021c3e88>),\n",
              " ('ner', <spacy.pipeline.pipes.EntityRecognizer at 0x7fe6021c3ee8>)]"
            ]
          },
          "metadata": {
            "tags": []
          },
          "execution_count": 11
        }
      ]
    },
    {
      "cell_type": "code",
      "metadata": {
        "id": "KA2iZR-1bTdV",
        "colab_type": "code",
        "outputId": "5cad91dc-4577-4227-bffb-37927c316d3b",
        "colab": {
          "base_uri": "https://localhost:8080/",
          "height": 34
        }
      },
      "source": [
        "nlp.pipe_names"
      ],
      "execution_count": 0,
      "outputs": [
        {
          "output_type": "execute_result",
          "data": {
            "text/plain": [
              "['tagger', 'parser', 'ner']"
            ]
          },
          "metadata": {
            "tags": []
          },
          "execution_count": 12
        }
      ]
    },
    {
      "cell_type": "markdown",
      "metadata": {
        "id": "BMFEYLzUdYik",
        "colab_type": "text"
      },
      "source": [
        "# Span"
      ]
    },
    {
      "cell_type": "code",
      "metadata": {
        "id": "jwTMqCGXbWcZ",
        "colab_type": "code",
        "colab": {}
      },
      "source": [
        "doc2 = nlp('Although commonly attributed to John Lennon from his song \"beautiful boy\", The phrase \"Life is what happens to us while we are \\\n",
        "making other plans\" was written by cartoonist Allen Saunders and published in reader\\'s Digest in 1957, when Lennon was 17.')"
      ],
      "execution_count": 0,
      "outputs": []
    },
    {
      "cell_type": "code",
      "metadata": {
        "id": "fmxMSsfMeUcn",
        "colab_type": "code",
        "outputId": "358bf944-030d-49a1-f49a-baf53a7b6384",
        "colab": {
          "base_uri": "https://localhost:8080/",
          "height": 34
        }
      },
      "source": [
        "life_quote = doc2[16:30]\n",
        "print(life_quote)"
      ],
      "execution_count": 0,
      "outputs": [
        {
          "output_type": "stream",
          "text": [
            "\"Life is what happens to us while we are making other plans\"\n"
          ],
          "name": "stdout"
        }
      ]
    },
    {
      "cell_type": "code",
      "metadata": {
        "id": "VBZNfH-WeaVK",
        "colab_type": "code",
        "outputId": "51d91013-363e-4b7c-9dc5-4f89f7d913ee",
        "colab": {
          "base_uri": "https://localhost:8080/",
          "height": 34
        }
      },
      "source": [
        "type(life_quote) "
      ],
      "execution_count": 0,
      "outputs": [
        {
          "output_type": "execute_result",
          "data": {
            "text/plain": [
              "spacy.tokens.span.Span"
            ]
          },
          "metadata": {
            "tags": []
          },
          "execution_count": 23
        }
      ]
    },
    {
      "cell_type": "code",
      "metadata": {
        "id": "eyVKiHhcexmZ",
        "colab_type": "code",
        "outputId": "ca407a9a-59ee-4dec-ab58-65da6c87b16e",
        "colab": {
          "base_uri": "https://localhost:8080/",
          "height": 34
        }
      },
      "source": [
        "type(doc2)"
      ],
      "execution_count": 0,
      "outputs": [
        {
          "output_type": "execute_result",
          "data": {
            "text/plain": [
              "spacy.tokens.doc.Doc"
            ]
          },
          "metadata": {
            "tags": []
          },
          "execution_count": 24
        }
      ]
    },
    {
      "cell_type": "markdown",
      "metadata": {
        "id": "_YuEumMNfJAK",
        "colab_type": "text"
      },
      "source": [
        "#Sentence separation"
      ]
    },
    {
      "cell_type": "code",
      "metadata": {
        "id": "g44QAVfQfL6X",
        "colab_type": "code",
        "outputId": "52888db0-8046-410a-83be-b625ba637db6",
        "colab": {
          "base_uri": "https://localhost:8080/",
          "height": 69
        }
      },
      "source": [
        "doc3 = nlp(\"This is a sentence. This is another sentence. This is last sentence.\")\n",
        "for sentence in doc3.sents:\n",
        "  print(sentence)"
      ],
      "execution_count": 0,
      "outputs": [
        {
          "output_type": "stream",
          "text": [
            "This is a sentence.\n",
            "This is another sentence.\n",
            "This is last sentence.\n"
          ],
          "name": "stdout"
        }
      ]
    },
    {
      "cell_type": "code",
      "metadata": {
        "id": "6qz7YNd-fg-I",
        "colab_type": "code",
        "outputId": "3d5defda-b801-4e8d-c102-a64db253f256",
        "colab": {
          "base_uri": "https://localhost:8080/",
          "height": 52
        }
      },
      "source": [
        "# is the word start of sentence\n",
        "print(doc3[5], doc3[3])\n",
        "doc3[5].is_sent_start, doc3[3].is_sent_start"
      ],
      "execution_count": 0,
      "outputs": [
        {
          "output_type": "stream",
          "text": [
            "This sentence\n"
          ],
          "name": "stdout"
        },
        {
          "output_type": "execute_result",
          "data": {
            "text/plain": [
              "(True, None)"
            ]
          },
          "metadata": {
            "tags": []
          },
          "execution_count": 28
        }
      ]
    }
  ]
}