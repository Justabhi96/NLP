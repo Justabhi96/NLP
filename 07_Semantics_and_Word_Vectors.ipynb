{
  "nbformat": 4,
  "nbformat_minor": 0,
  "metadata": {
    "colab": {
      "name": "NLP - 7. Semantics and Word Vectors",
      "provenance": [],
      "authorship_tag": "ABX9TyMlKjXUT4vQIIeDCSUL4KKb",
      "include_colab_link": true
    },
    "kernelspec": {
      "name": "python3",
      "display_name": "Python 3"
    }
  },
  "cells": [
    {
      "cell_type": "markdown",
      "metadata": {
        "id": "view-in-github",
        "colab_type": "text"
      },
      "source": [
        "<a href=\"https://colab.research.google.com/github/Justabhi96/NLP/blob/master/07_Semantics_and_Word_Vectors.ipynb\" target=\"_parent\"><img src=\"https://colab.research.google.com/assets/colab-badge.svg\" alt=\"Open In Colab\"/></a>"
      ]
    },
    {
      "cell_type": "code",
      "metadata": {
        "id": "DmgAE_Yo4CRq",
        "colab_type": "code",
        "outputId": "8faadc19-940f-4dfa-c756-cd5605f6a8d3",
        "colab": {
          "base_uri": "https://localhost:8080/",
          "height": 245
        }
      },
      "source": [
        "!python -m spacy download en_core_web_lg"
      ],
      "execution_count": 0,
      "outputs": [
        {
          "output_type": "stream",
          "text": [
            "Collecting en_core_web_lg==2.1.0\n",
            "\u001b[?25l  Downloading https://github.com/explosion/spacy-models/releases/download/en_core_web_lg-2.1.0/en_core_web_lg-2.1.0.tar.gz (826.9MB)\n",
            "\u001b[K     |████████████████████████████████| 826.9MB 1.1MB/s \n",
            "\u001b[?25hBuilding wheels for collected packages: en-core-web-lg\n",
            "  Building wheel for en-core-web-lg (setup.py) ... \u001b[?25l\u001b[?25hdone\n",
            "  Created wheel for en-core-web-lg: filename=en_core_web_lg-2.1.0-cp36-none-any.whl size=828255078 sha256=74d8d88019aed41d813274258419c430ba462809c6b215eb2a03f5374942fd2e\n",
            "  Stored in directory: /tmp/pip-ephem-wheel-cache-nf3tw86i/wheels/b4/d7/70/426d313a459f82ed5e06cc36a50e2bb2f0ec5cb31d8e0bdf09\n",
            "Successfully built en-core-web-lg\n",
            "Installing collected packages: en-core-web-lg\n",
            "Successfully installed en-core-web-lg-2.1.0\n",
            "\u001b[38;5;2m✔ Download and installation successful\u001b[0m\n",
            "You can now load the model via spacy.load('en_core_web_lg')\n"
          ],
          "name": "stdout"
        }
      ]
    },
    {
      "cell_type": "markdown",
      "metadata": {
        "id": "IbDo5kPP4TRv",
        "colab_type": "text"
      },
      "source": [
        "Before running below cell restart the runtime otherwise it will throw error: \"en_core_web_lg\" not found"
      ]
    },
    {
      "cell_type": "code",
      "metadata": {
        "id": "KFyA63Sa33aJ",
        "colab_type": "code",
        "colab": {}
      },
      "source": [
        "import spacy\n",
        "nlp = spacy.load(\"en_core_web_lg\")"
      ],
      "execution_count": 0,
      "outputs": []
    },
    {
      "cell_type": "code",
      "metadata": {
        "id": "llgzf-KJ4hcj",
        "colab_type": "code",
        "outputId": "e6ff9130-5006-4f09-9a92-2d230798797c",
        "colab": {
          "base_uri": "https://localhost:8080/",
          "height": 34
        }
      },
      "source": [
        "nlp(\"lion\").vector.shape"
      ],
      "execution_count": 0,
      "outputs": [
        {
          "output_type": "execute_result",
          "data": {
            "text/plain": [
              "(300,)"
            ]
          },
          "metadata": {
            "tags": []
          },
          "execution_count": 4
        }
      ]
    },
    {
      "cell_type": "code",
      "metadata": {
        "id": "jZSXdAx35rdu",
        "colab_type": "code",
        "outputId": "a3fa781c-7c35-408b-c1b8-34661bf72ae0",
        "colab": {
          "base_uri": "https://localhost:8080/",
          "height": 34
        }
      },
      "source": [
        "nlp(\"lion is very brave\").vector.shape"
      ],
      "execution_count": 0,
      "outputs": [
        {
          "output_type": "execute_result",
          "data": {
            "text/plain": [
              "(300,)"
            ]
          },
          "metadata": {
            "tags": []
          },
          "execution_count": 6
        }
      ]
    },
    {
      "cell_type": "code",
      "metadata": {
        "id": "PXdfEMBS52K6",
        "colab_type": "code",
        "outputId": "5c2488d5-3421-480c-8cd1-e949a0c35e2d",
        "colab": {
          "base_uri": "https://localhost:8080/",
          "height": 173
        }
      },
      "source": [
        "tokens = nlp(\"lion cat pet\")\n",
        "\n",
        "for token1 in tokens:\n",
        "  for token2 in tokens:\n",
        "    print(token1.text, token2.text, token1.similarity(token2))"
      ],
      "execution_count": 0,
      "outputs": [
        {
          "output_type": "stream",
          "text": [
            "lion lion 1.0\n",
            "lion cat 0.5265438\n",
            "lion pet 0.39923766\n",
            "cat lion 0.5265438\n",
            "cat cat 1.0\n",
            "cat pet 0.7505457\n",
            "pet lion 0.39923766\n",
            "pet cat 0.7505457\n",
            "pet pet 1.0\n"
          ],
          "name": "stdout"
        }
      ]
    },
    {
      "cell_type": "code",
      "metadata": {
        "id": "W8mUpHhv7Pre",
        "colab_type": "code",
        "outputId": "c0cea5fc-1329-4aa7-99d4-1e16e1ab4060",
        "colab": {
          "base_uri": "https://localhost:8080/",
          "height": 176
        }
      },
      "source": [
        "tokens = nlp(\"love like hate\")\n",
        "\n",
        "for token1 in tokens:\n",
        "  for token2 in tokens:\n",
        "    print(token1.text, token2.text, token1.similarity(token2))"
      ],
      "execution_count": 0,
      "outputs": [
        {
          "output_type": "stream",
          "text": [
            "love love 1.0\n",
            "love like 0.657904\n",
            "love hate 0.63930994\n",
            "like love 0.657904\n",
            "like like 1.0\n",
            "like hate 0.65746516\n",
            "hate love 0.63930994\n",
            "hate like 0.65746516\n",
            "hate hate 1.0\n"
          ],
          "name": "stdout"
        }
      ]
    },
    {
      "cell_type": "code",
      "metadata": {
        "id": "JA1tdKBW7S2r",
        "colab_type": "code",
        "outputId": "0db0b90e-cb14-4523-c491-f4d59a91f5fc",
        "colab": {
          "base_uri": "https://localhost:8080/",
          "height": 35
        }
      },
      "source": [
        "nlp.vocab.vectors.shape"
      ],
      "execution_count": 0,
      "outputs": [
        {
          "output_type": "execute_result",
          "data": {
            "text/plain": [
              "(684831, 300)"
            ]
          },
          "metadata": {
            "tags": []
          },
          "execution_count": 11
        }
      ]
    },
    {
      "cell_type": "code",
      "metadata": {
        "id": "Uwo8Qkwy7jZI",
        "colab_type": "code",
        "outputId": "85dc6640-9a49-48e9-9aba-abf978bb2780",
        "colab": {
          "base_uri": "https://localhost:8080/",
          "height": 70
        }
      },
      "source": [
        "tokens = nlp(\"lion cat abhishek\")\n",
        "\n",
        "for token1 in tokens:\n",
        "  print(token1.text, token1.has_vector, token1.vector_norm, token1.is_oov) # is_oov(out of vocab)"
      ],
      "execution_count": 0,
      "outputs": [
        {
          "output_type": "stream",
          "text": [
            "lion True 6.5120897 False\n",
            "cat True 6.6808186 False\n",
            "abhishek True 7.7694106 False\n"
          ],
          "name": "stdout"
        }
      ]
    },
    {
      "cell_type": "code",
      "metadata": {
        "id": "_X-1as2m8TFV",
        "colab_type": "code",
        "outputId": "3df555b1-48e3-4719-9324-4eb0824e378b",
        "colab": {
          "base_uri": "https://localhost:8080/",
          "height": 70
        }
      },
      "source": [
        "tokens = nlp(\"lion cat sdaf\")\n",
        "\n",
        "for token1 in tokens:\n",
        "  print(token1.text, token1.has_vector, token1.vector_norm, token1.is_oov) # is_oov(out of vocab)"
      ],
      "execution_count": 0,
      "outputs": [
        {
          "output_type": "stream",
          "text": [
            "lion True 6.5120897 False\n",
            "cat True 6.6808186 False\n",
            "sdaf False 0.0 True\n"
          ],
          "name": "stdout"
        }
      ]
    },
    {
      "cell_type": "markdown",
      "metadata": {
        "id": "MtwKPvxW8u3t",
        "colab_type": "text"
      },
      "source": [
        "##Vector arithmetics"
      ]
    },
    {
      "cell_type": "code",
      "metadata": {
        "id": "a4Z4e9A_8xPZ",
        "colab_type": "code",
        "colab": {}
      },
      "source": [
        "from scipy import spatial\n",
        "\n",
        "cosine_similarity = lambda vec1, vec2: 1 - spatial.distance.cosine(vec1, vec2)"
      ],
      "execution_count": 0,
      "outputs": []
    },
    {
      "cell_type": "code",
      "metadata": {
        "id": "Z5P29vlK9Nkj",
        "colab_type": "code",
        "colab": {}
      },
      "source": [
        "king = nlp.vocab[\"king\"].vector\n",
        "man = nlp.vocab[\"man\"].vector\n",
        "woman = nlp.vocab[\"woman\"].vector"
      ],
      "execution_count": 0,
      "outputs": []
    },
    {
      "cell_type": "markdown",
      "metadata": {
        "id": "H2bSDIB_-gcf",
        "colab_type": "text"
      },
      "source": [
        "new_vector = king-man+woman\n",
        "\n",
        "new_vector should be similar to Queen, princess or highness"
      ]
    },
    {
      "cell_type": "code",
      "metadata": {
        "id": "2f9U_sxj-Zkv",
        "colab_type": "code",
        "colab": {}
      },
      "source": [
        "new_vector = king - man + woman"
      ],
      "execution_count": 0,
      "outputs": []
    },
    {
      "cell_type": "code",
      "metadata": {
        "id": "xXN7M3GX-u5f",
        "colab_type": "code",
        "colab": {}
      },
      "source": [
        "similarities = []\n",
        "for word in nlp.vocab:\n",
        "  if word.has_vector and word.is_lower and word.is_alpha:\n",
        "    similarity = cosine_similarity(new_vector, word.vector)\n",
        "    similarities.append((word, similarity))"
      ],
      "execution_count": 0,
      "outputs": []
    },
    {
      "cell_type": "code",
      "metadata": {
        "id": "2p9x7cIr_VQF",
        "colab_type": "code",
        "outputId": "9ff0319b-91ea-4b66-81a1-4c2fb1d7b6a3",
        "colab": {
          "base_uri": "https://localhost:8080/",
          "height": 194
        }
      },
      "source": [
        "similarities = sorted(similarities, key = lambda val: -val[1])\n",
        "[t[0].text for t in similarities[:10]]"
      ],
      "execution_count": 0,
      "outputs": [
        {
          "output_type": "execute_result",
          "data": {
            "text/plain": [
              "['king',\n",
              " 'queen',\n",
              " 'prince',\n",
              " 'kings',\n",
              " 'princess',\n",
              " 'royal',\n",
              " 'throne',\n",
              " 'queens',\n",
              " 'monarch',\n",
              " 'kingdom']"
            ]
          },
          "metadata": {
            "tags": []
          },
          "execution_count": 29
        }
      ]
    }
  ]
}