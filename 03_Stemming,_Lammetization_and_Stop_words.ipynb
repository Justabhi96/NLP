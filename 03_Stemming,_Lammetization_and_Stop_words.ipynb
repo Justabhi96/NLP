{
  "nbformat": 4,
  "nbformat_minor": 0,
  "metadata": {
    "colab": {
      "name": "NLP - 3. Stemming, Lammetization and Stop words",
      "provenance": [],
      "authorship_tag": "ABX9TyOup7C0REYux0QjcjSZlGPf",
      "include_colab_link": true
    },
    "kernelspec": {
      "name": "python3",
      "display_name": "Python 3"
    }
  },
  "cells": [
    {
      "cell_type": "markdown",
      "metadata": {
        "id": "view-in-github",
        "colab_type": "text"
      },
      "source": [
        "<a href=\"https://colab.research.google.com/github/Justabhi96/NLP/blob/master/03_Stemming%2C_Lammetization_and_Stop_words.ipynb\" target=\"_parent\"><img src=\"https://colab.research.google.com/assets/colab-badge.svg\" alt=\"Open In Colab\"/></a>"
      ]
    },
    {
      "cell_type": "markdown",
      "metadata": {
        "id": "j8-TMFezrgp1",
        "colab_type": "text"
      },
      "source": [
        "# Stemming\n",
        "\n",
        "Spacy does not have stemmer. It has only lemmatizer.\n",
        "\n",
        "So Alternatively we will use NLTK for stemming"
      ]
    },
    {
      "cell_type": "code",
      "metadata": {
        "id": "nOwETZ2Mp8oC",
        "colab_type": "code",
        "colab": {}
      },
      "source": [
        "from nltk.stem.porter import PorterStemmer"
      ],
      "execution_count": 0,
      "outputs": []
    },
    {
      "cell_type": "code",
      "metadata": {
        "id": "kd98L6k9rx1c",
        "colab_type": "code",
        "colab": {}
      },
      "source": [
        "p_stemmer = PorterStemmer()"
      ],
      "execution_count": 0,
      "outputs": []
    },
    {
      "cell_type": "code",
      "metadata": {
        "id": "vPiTcLqvqOKE",
        "colab_type": "code",
        "outputId": "88a01f62-4055-49e9-f5be-78d7f9b91c1b",
        "colab": {
          "base_uri": "https://localhost:8080/",
          "height": 121
        }
      },
      "source": [
        "words = [\"run\", \"runner\", \"ran\", \"runs\", \"easily\", \"fairly\"]\n",
        "for word in words:\n",
        "  print(word + \" -----> \" + p_stemmer.stem(word))"
      ],
      "execution_count": 0,
      "outputs": [
        {
          "output_type": "stream",
          "text": [
            "run -----> run\n",
            "runner -----> runner\n",
            "ran -----> ran\n",
            "runs -----> run\n",
            "easily -----> easili\n",
            "fairly -----> fairli\n"
          ],
          "name": "stdout"
        }
      ]
    },
    {
      "cell_type": "code",
      "metadata": {
        "id": "AyScgAfGrwkH",
        "colab_type": "code",
        "colab": {}
      },
      "source": [
        "from nltk.stem.snowball import SnowballStemmer"
      ],
      "execution_count": 0,
      "outputs": []
    },
    {
      "cell_type": "code",
      "metadata": {
        "id": "16CXvNI9s66i",
        "colab_type": "code",
        "colab": {}
      },
      "source": [
        "s_stemmer = SnowballStemmer(language = \"english\")"
      ],
      "execution_count": 0,
      "outputs": []
    },
    {
      "cell_type": "code",
      "metadata": {
        "id": "Dw5QRt3CtNVZ",
        "colab_type": "code",
        "outputId": "999f21ee-2a95-4296-d48a-e0016db3c628",
        "colab": {
          "base_uri": "https://localhost:8080/",
          "height": 121
        }
      },
      "source": [
        "words = [\"run\", \"runner\", \"ran\", \"runs\", \"easily\", \"fairly\"]\n",
        "for word in words:\n",
        "  print(word + \" -----> \" + s_stemmer.stem(word))"
      ],
      "execution_count": 0,
      "outputs": [
        {
          "output_type": "stream",
          "text": [
            "run -----> run\n",
            "runner -----> runner\n",
            "ran -----> ran\n",
            "runs -----> run\n",
            "easily -----> easili\n",
            "fairly -----> fair\n"
          ],
          "name": "stdout"
        }
      ]
    },
    {
      "cell_type": "code",
      "metadata": {
        "id": "GoZMaI50tpD1",
        "colab_type": "code",
        "outputId": "f37ba783-d788-49c1-9820-4a90adb4e3df",
        "colab": {
          "base_uri": "https://localhost:8080/",
          "height": 87
        }
      },
      "source": [
        "words = [\"generous\", \"generation\", \"generously\", \"generate\"]\n",
        "for word in words:\n",
        "  print(word + \" -----> \" + s_stemmer.stem(word))"
      ],
      "execution_count": 0,
      "outputs": [
        {
          "output_type": "stream",
          "text": [
            "generous -----> generous\n",
            "generation -----> generat\n",
            "generously -----> generous\n",
            "generate -----> generat\n"
          ],
          "name": "stdout"
        }
      ]
    },
    {
      "cell_type": "markdown",
      "metadata": {
        "id": "KaL2H9_muDCl",
        "colab_type": "text"
      },
      "source": [
        "# Lemmatization"
      ]
    },
    {
      "cell_type": "code",
      "metadata": {
        "id": "P0_NdGiEuGKx",
        "colab_type": "code",
        "colab": {}
      },
      "source": [
        "import spacy\n",
        "nlp = spacy.load(\"en_core_web_sm\")"
      ],
      "execution_count": 0,
      "outputs": []
    },
    {
      "cell_type": "code",
      "metadata": {
        "id": "U8QdpGPvuix9",
        "colab_type": "code",
        "colab": {}
      },
      "source": [
        "doc = nlp(\"I am a runner running in a race beacause I love to run since I ran today.\")"
      ],
      "execution_count": 0,
      "outputs": []
    },
    {
      "cell_type": "code",
      "metadata": {
        "id": "mI5NfdI9uv0q",
        "colab_type": "code",
        "outputId": "489a085f-74a6-4e5e-ac50-5e48945fbdeb",
        "colab": {
          "base_uri": "https://localhost:8080/",
          "height": 329
        }
      },
      "source": [
        "for token in doc:\n",
        "  print(f\"{token.text:{10}} {token.pos_:{7}} {token.lemma:<{25}} {token.lemma_}\")"
      ],
      "execution_count": 0,
      "outputs": [
        {
          "output_type": "stream",
          "text": [
            "I          PRON    561228191312463089        -PRON-\n",
            "am         VERB    10382539506755952630      be\n",
            "a          DET     11901859001352538922      a\n",
            "runner     NOUN    12640964157389618806      runner\n",
            "running    VERB    12767647472892411841      run\n",
            "in         ADP     3002984154512732771       in\n",
            "a          DET     11901859001352538922      a\n",
            "race       NOUN    8048469955494714898       race\n",
            "beacause   NOUN    7794235611920507838       beacause\n",
            "I          PRON    561228191312463089        -PRON-\n",
            "love       VERB    3702023516439754181       love\n",
            "to         PART    3791531372978436496       to\n",
            "run        VERB    12767647472892411841      run\n",
            "since      ADP     10066841407251338481      since\n",
            "I          PRON    561228191312463089        -PRON-\n",
            "ran        VERB    12767647472892411841      run\n",
            "today      NOUN    11042482332948150395      today\n",
            ".          PUNCT   12646065887601541794      .\n"
          ],
          "name": "stdout"
        }
      ]
    },
    {
      "cell_type": "code",
      "metadata": {
        "id": "x2L-CZ00wRx6",
        "colab_type": "code",
        "outputId": "73fa5125-ea8a-4a38-fce4-5312dc0c183c",
        "colab": {
          "base_uri": "https://localhost:8080/",
          "height": 121
        }
      },
      "source": [
        "doc = nlp(\"I saw ten mice today!\")\n",
        "for token in doc:\n",
        "  print(f\"{token.text:{10}} {token.pos_:{7}} {token.lemma:<{25}} {token.lemma_}\")"
      ],
      "execution_count": 0,
      "outputs": [
        {
          "output_type": "stream",
          "text": [
            "I          PRON    561228191312463089        -PRON-\n",
            "saw        VERB    11925638236994514241      see\n",
            "ten        NUM     7970704286052693043       ten\n",
            "mice       NOUN    1384165645700560590       mouse\n",
            "today      NOUN    11042482332948150395      today\n",
            "!          PUNCT   17494803046312582752      !\n"
          ],
          "name": "stdout"
        }
      ]
    },
    {
      "cell_type": "markdown",
      "metadata": {
        "id": "nccZW9J5wpYS",
        "colab_type": "text"
      },
      "source": [
        "# Stop words"
      ]
    },
    {
      "cell_type": "code",
      "metadata": {
        "id": "CeTASUdgwrUH",
        "colab_type": "code",
        "outputId": "edbb8b84-aeae-44d0-f742-faacbaa2862b",
        "colab": {
          "base_uri": "https://localhost:8080/",
          "height": 55
        }
      },
      "source": [
        "print(nlp.Defaults.stop_words)"
      ],
      "execution_count": 0,
      "outputs": [
        {
          "output_type": "stream",
          "text": [
            "{'they', 'else', 'below', 'itself', 'myself', 'can', 'others', 'though', 'those', 'together', 'beyond', 'whoever', 'she', 'against', 'any', 'regarding', 'serious', 'their', 'within', 'is', 'there', 'although', 'nowhere', 'hundred', 'hers', 'six', 'herein', 'once', 'thereby', 'too', 'this', 'thereafter', 'over', 'after', 'yet', 'either', 'or', 'at', 'been', '‘ve', 'would', 'doing', '‘m', 'amount', 'hereupon', 'again', 'anything', 'front', 'into', 'latter', 'ca', 'first', 'become', 'further', 'might', 'name', 'toward', 'due', 'various', 'almost', 'someone', 'without', 'your', \"n't\", 'somehow', 'why', 'yourselves', 'until', 'everyone', 'me', 'i', 'hereafter', 'not', 'should', 'above', 'often', '‘ll', 'rather', 'therefore', 'yours', 'eight', 'fifty', 'his', 'among', 'anyone', 'last', 'more', 'out', 'several', 'whether', 'then', 'such', 'made', 'same', 'themselves', \"'d\", 'top', 'anyhow', 'enough', 'part', 'hereby', 'down', 'five', 'than', 'yourself', \"'ll\", 'latterly', 'n’t', '’re', 'something', 'elsewhere', 'had', 'quite', 'where', 'herself', 'three', 'whose', 'one', 'the', 'mine', 'two', 'which', 'by', 'most', 'never', 'seeming', 'thus', 'seemed', 'whatever', 'whither', 'her', 'have', 'we', 'whereas', 'must', 'neither', 'and', 'beside', 'see', 'these', 'wherever', 'him', 'everything', 'another', 'along', 'forty', 'every', 'put', 'whom', 'perhaps', 'to', 'ourselves', 'cannot', 'became', 'make', 'using', 'much', 'across', 'nor', 'because', 'as', 'ever', 'please', 'unless', 'indeed', 'a', 'formerly', '‘re', 'twenty', \"'re\", 'wherein', 'anywhere', 'somewhere', 'ten', 'whole', 'back', 'bottom', 'moreover', 'be', 'go', 'nobody', 'otherwise', 'its', 'amongst', 'has', 'us', 'some', 'used', 'always', 'them', \"'ve\", \"'s\", '’s', 'move', 'but', 'thence', 'noone', 'what', 'already', 'anyway', 'meanwhile', 'mostly', 'nevertheless', 'few', 'nothing', 'through', 'former', '’ll', 'will', 'between', 'in', 'throughout', 'about', 'so', 'very', 'was', 'own', 'here', 'only', 'becomes', 'no', '‘d', '’m', 'next', 'were', 'whenever', 'with', 'full', 'on', 'less', 'he', 'our', 'well', 'when', 'empty', 'may', 'many', 'while', 'via', 'n‘t', 'four', 'side', 'around', 'just', 're', 'who', 'during', 'none', 'towards', 'eleven', 'if', 'say', 'done', 'thru', 'whence', 'himself', 'becoming', 'therein', 'beforehand', 'afterwards', 'could', 'besides', 'everywhere', 'except', '‘s', 'each', 'ours', 'least', 'am', 'off', 'you', 'still', 'third', 'even', 'however', 'twelve', 'show', 'give', 'whereafter', 'my', '’ve', 'under', 'for', 'up', 'seem', 'seems', 'from', 'are', 'per', 'really', 'other', 'whereupon', 'before', 'do', 'namely', 'now', 'of', 'keep', 'since', 'whereby', 'all', 'does', 'it', 'behind', 'take', 'sixty', '’d', 'alone', 'did', 'both', 'hence', 'that', 'sometime', 'fifteen', 'how', 'call', 'sometimes', 'also', \"'m\", 'upon', 'an', 'onto', 'get', 'thereupon', 'being', 'nine'}\n"
          ],
          "name": "stdout"
        }
      ]
    },
    {
      "cell_type": "code",
      "metadata": {
        "id": "mDhJSJ3SxNUn",
        "colab_type": "code",
        "outputId": "e98b28c4-593f-44c2-8597-fd781deffb8a",
        "colab": {
          "base_uri": "https://localhost:8080/",
          "height": 35
        }
      },
      "source": [
        "len(nlp.Defaults.stop_words)"
      ],
      "execution_count": 0,
      "outputs": [
        {
          "output_type": "execute_result",
          "data": {
            "text/plain": [
              "326"
            ]
          },
          "metadata": {
            "tags": []
          },
          "execution_count": 27
        }
      ]
    },
    {
      "cell_type": "code",
      "metadata": {
        "id": "E2vxSsU8xQhh",
        "colab_type": "code",
        "outputId": "b21cd7d6-c8a4-4d11-e1a9-e9ede5ea81c8",
        "colab": {
          "base_uri": "https://localhost:8080/",
          "height": 35
        }
      },
      "source": [
        "nlp.vocab[\"is\"].is_stop, nlp.vocab[\"btw\"].is_stop"
      ],
      "execution_count": 0,
      "outputs": [
        {
          "output_type": "execute_result",
          "data": {
            "text/plain": [
              "(True, False)"
            ]
          },
          "metadata": {
            "tags": []
          },
          "execution_count": 30
        }
      ]
    },
    {
      "cell_type": "markdown",
      "metadata": {
        "id": "5BVdXZvZxsGj",
        "colab_type": "text"
      },
      "source": [
        "###Adding a word in stop words"
      ]
    },
    {
      "cell_type": "code",
      "metadata": {
        "id": "hSWOUw2gxutw",
        "colab_type": "code",
        "colab": {}
      },
      "source": [
        "nlp.Defaults.stop_words.add(\"btw\")\n",
        "nlp.vocab[\"btw\"].is_stop = True"
      ],
      "execution_count": 0,
      "outputs": []
    },
    {
      "cell_type": "code",
      "metadata": {
        "id": "AGzurxfNyA0f",
        "colab_type": "code",
        "outputId": "2c0787b2-6100-408a-cf67-b4ed536b2e06",
        "colab": {
          "base_uri": "https://localhost:8080/",
          "height": 35
        }
      },
      "source": [
        "len(nlp.Defaults.stop_words)"
      ],
      "execution_count": 0,
      "outputs": [
        {
          "output_type": "execute_result",
          "data": {
            "text/plain": [
              "327"
            ]
          },
          "metadata": {
            "tags": []
          },
          "execution_count": 32
        }
      ]
    },
    {
      "cell_type": "code",
      "metadata": {
        "id": "nZ1z8yjux9GK",
        "colab_type": "code",
        "outputId": "2f582bed-2bec-46ec-9a79-725a7c2a4bfd",
        "colab": {
          "base_uri": "https://localhost:8080/",
          "height": 35
        }
      },
      "source": [
        "nlp.vocab[\"btw\"].is_stop"
      ],
      "execution_count": 0,
      "outputs": [
        {
          "output_type": "execute_result",
          "data": {
            "text/plain": [
              "True"
            ]
          },
          "metadata": {
            "tags": []
          },
          "execution_count": 33
        }
      ]
    },
    {
      "cell_type": "markdown",
      "metadata": {
        "id": "crZr-di8yEt9",
        "colab_type": "text"
      },
      "source": [
        "###Remove a stop word"
      ]
    },
    {
      "cell_type": "code",
      "metadata": {
        "id": "5RGUPMIsyHGl",
        "colab_type": "code",
        "colab": {}
      },
      "source": [
        "nlp.Defaults.stop_words.remove(\"btw\")\n",
        "nlp.vocab[\"btw\"].is_stop = False"
      ],
      "execution_count": 0,
      "outputs": []
    },
    {
      "cell_type": "code",
      "metadata": {
        "id": "JNIEV0C-yP5X",
        "colab_type": "code",
        "outputId": "42af3f25-ae65-4fc2-a211-71218170b3cb",
        "colab": {
          "base_uri": "https://localhost:8080/",
          "height": 35
        }
      },
      "source": [
        "len(nlp.Defaults.stop_words)"
      ],
      "execution_count": 0,
      "outputs": [
        {
          "output_type": "execute_result",
          "data": {
            "text/plain": [
              "326"
            ]
          },
          "metadata": {
            "tags": []
          },
          "execution_count": 35
        }
      ]
    },
    {
      "cell_type": "code",
      "metadata": {
        "id": "71UY3Jr0yT9o",
        "colab_type": "code",
        "outputId": "b49bd7b2-9cd6-4e93-b191-691e22029c10",
        "colab": {
          "base_uri": "https://localhost:8080/",
          "height": 35
        }
      },
      "source": [
        "nlp.vocab[\"btw\"].is_stop"
      ],
      "execution_count": 0,
      "outputs": [
        {
          "output_type": "execute_result",
          "data": {
            "text/plain": [
              "False"
            ]
          },
          "metadata": {
            "tags": []
          },
          "execution_count": 36
        }
      ]
    }
  ]
}