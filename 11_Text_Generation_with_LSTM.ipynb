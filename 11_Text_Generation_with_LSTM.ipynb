{
  "nbformat": 4,
  "nbformat_minor": 0,
  "metadata": {
    "colab": {
      "name": "NLP - 11. Text Generation with LSTM",
      "provenance": [],
      "authorship_tag": "ABX9TyNvVRMmeANPY/9Cw8QycEsr",
      "include_colab_link": true
    },
    "kernelspec": {
      "name": "python3",
      "display_name": "Python 3"
    },
    "accelerator": "GPU"
  },
  "cells": [
    {
      "cell_type": "markdown",
      "metadata": {
        "id": "view-in-github",
        "colab_type": "text"
      },
      "source": [
        "<a href=\"https://colab.research.google.com/github/Justabhi96/NLP/blob/master/11_Text_Generation_with_LSTM.ipynb\" target=\"_parent\"><img src=\"https://colab.research.google.com/assets/colab-badge.svg\" alt=\"Open In Colab\"/></a>"
      ]
    },
    {
      "cell_type": "code",
      "metadata": {
        "id": "q6-MwKnLZ783",
        "colab_type": "code",
        "colab": {}
      },
      "source": [
        "def read_file(filepath):\n",
        "  with open(filepath) as f:\n",
        "    txt = f.read()\n",
        "  return txt"
      ],
      "execution_count": 0,
      "outputs": []
    },
    {
      "cell_type": "code",
      "metadata": {
        "id": "GcP2Aq5lbKn1",
        "colab_type": "code",
        "colab": {}
      },
      "source": [
        "moby_text = read_file(\"moby_dick_four_chapters.txt\")\n",
        "print(moby_text)"
      ],
      "execution_count": 0,
      "outputs": []
    },
    {
      "cell_type": "code",
      "metadata": {
        "id": "f9FmqgiLbX_r",
        "colab_type": "code",
        "colab": {}
      },
      "source": [
        "import spacy\n",
        "nlp = spacy.load(\"en\", disable = [\"parser\", \"tagger\", \"ner\"])"
      ],
      "execution_count": 0,
      "outputs": []
    },
    {
      "cell_type": "code",
      "metadata": {
        "id": "BZT_9HmubjRj",
        "colab_type": "code",
        "colab": {}
      },
      "source": [
        "nlp.max_length = 1198623"
      ],
      "execution_count": 0,
      "outputs": []
    },
    {
      "cell_type": "code",
      "metadata": {
        "id": "7p26kZnjcNQ_",
        "colab_type": "code",
        "colab": {}
      },
      "source": [
        "def remove_punc(doc_text):\n",
        "  return [token.text.lower() for token in nlp(doc_text) if \n",
        "          token.text not in '\"\\n\\n \\n\\n\\n!\"-#$%&()--.*+,-/:;<=>?@[\\\\]^_`{|}~\\t\\n ']"
      ],
      "execution_count": 0,
      "outputs": []
    },
    {
      "cell_type": "code",
      "metadata": {
        "id": "eAol6N8IdV8O",
        "colab_type": "code",
        "outputId": "65727975-1523-4554-97e2-e903d11ca399",
        "colab": {
          "base_uri": "https://localhost:8080/",
          "height": 364
        }
      },
      "source": [
        "tokens = remove_punc(moby_text)\n",
        "tokens[:20]"
      ],
      "execution_count": 0,
      "outputs": [
        {
          "output_type": "execute_result",
          "data": {
            "text/plain": [
              "['call',\n",
              " 'me',\n",
              " 'ishmael',\n",
              " 'some',\n",
              " 'years',\n",
              " 'ago',\n",
              " 'never',\n",
              " 'mind',\n",
              " 'how',\n",
              " 'long',\n",
              " 'precisely',\n",
              " 'having',\n",
              " 'little',\n",
              " 'or',\n",
              " 'no',\n",
              " 'money',\n",
              " 'in',\n",
              " 'my',\n",
              " 'purse',\n",
              " 'and']"
            ]
          },
          "metadata": {
            "tags": []
          },
          "execution_count": 12
        }
      ]
    },
    {
      "cell_type": "code",
      "metadata": {
        "id": "W5-V_Mvadh6z",
        "colab_type": "code",
        "outputId": "cdf5a62e-9278-4f70-e39e-ee61446dabcf",
        "colab": {
          "base_uri": "https://localhost:8080/",
          "height": 34
        }
      },
      "source": [
        "len(tokens)"
      ],
      "execution_count": 0,
      "outputs": [
        {
          "output_type": "execute_result",
          "data": {
            "text/plain": [
              "11338"
            ]
          },
          "metadata": {
            "tags": []
          },
          "execution_count": 13
        }
      ]
    },
    {
      "cell_type": "markdown",
      "metadata": {
        "id": "TO2YNghNdqFq",
        "colab_type": "text"
      },
      "source": [
        "###We will pass 25 words and have the network predict 26th word"
      ]
    },
    {
      "cell_type": "code",
      "metadata": {
        "id": "hWo_RHUrdjVQ",
        "colab_type": "code",
        "colab": {}
      },
      "source": [
        "train_len = 25+1\n",
        "\n",
        "train_sequences = []\n",
        "for i in range(train_len, len(tokens)):\n",
        "  seq = tokens[i-train_len:i]\n",
        "  train_sequences.append(seq)"
      ],
      "execution_count": 0,
      "outputs": []
    },
    {
      "cell_type": "code",
      "metadata": {
        "id": "tgoeA2O3fI08",
        "colab_type": "code",
        "outputId": "3f4676b4-930e-4283-bae0-a0d88af59175",
        "colab": {
          "base_uri": "https://localhost:8080/",
          "height": 54
        }
      },
      "source": [
        "\" \".join(train_sequences[0])"
      ],
      "execution_count": 0,
      "outputs": [
        {
          "output_type": "execute_result",
          "data": {
            "text/plain": [
              "'call me ishmael some years ago never mind how long precisely having little or no money in my purse and nothing particular to interest me on'"
            ]
          },
          "metadata": {
            "tags": []
          },
          "execution_count": 16
        }
      ]
    },
    {
      "cell_type": "markdown",
      "metadata": {
        "id": "VulMcVxOfQnw",
        "colab_type": "text"
      },
      "source": [
        "Notice all the sequences are shifted one step right"
      ]
    },
    {
      "cell_type": "code",
      "metadata": {
        "id": "fweHZ9H7fNO2",
        "colab_type": "code",
        "outputId": "e8194e8f-a22c-49b5-c3bc-15929ea88db6",
        "colab": {
          "base_uri": "https://localhost:8080/",
          "height": 54
        }
      },
      "source": [
        "\" \".join(train_sequences[1])"
      ],
      "execution_count": 0,
      "outputs": [
        {
          "output_type": "execute_result",
          "data": {
            "text/plain": [
              "'me ishmael some years ago never mind how long precisely having little or no money in my purse and nothing particular to interest me on shore'"
            ]
          },
          "metadata": {
            "tags": []
          },
          "execution_count": 17
        }
      ]
    },
    {
      "cell_type": "markdown",
      "metadata": {
        "id": "kC84ML0fgAHo",
        "colab_type": "text"
      },
      "source": [
        "###Tokenize the word vectors"
      ]
    },
    {
      "cell_type": "code",
      "metadata": {
        "id": "hc2NZ1IhfOZU",
        "colab_type": "code",
        "colab": {}
      },
      "source": [
        "from keras.preprocessing.text import Tokenizer"
      ],
      "execution_count": 0,
      "outputs": []
    },
    {
      "cell_type": "code",
      "metadata": {
        "id": "D_9HpKYygShH",
        "colab_type": "code",
        "colab": {}
      },
      "source": [
        "tokenizer =Tokenizer()\n",
        "\n",
        "tokenizer.fit_on_texts(train_sequences)"
      ],
      "execution_count": 0,
      "outputs": []
    },
    {
      "cell_type": "code",
      "metadata": {
        "id": "9AManPi7ggXr",
        "colab_type": "code",
        "outputId": "97d710e3-a8c0-4c9c-83ec-0795ab719c18",
        "colab": {
          "base_uri": "https://localhost:8080/",
          "height": 469
        }
      },
      "source": [
        "# notice the shift in the values\n",
        "sequences = tokenizer.texts_to_sequences(train_sequences)\n",
        "list(zip(sequences[0], sequences[1]))"
      ],
      "execution_count": 0,
      "outputs": [
        {
          "output_type": "execute_result",
          "data": {
            "text/plain": [
              "[(956, 14),\n",
              " (14, 263),\n",
              " (263, 51),\n",
              " (51, 261),\n",
              " (261, 408),\n",
              " (408, 87),\n",
              " (87, 219),\n",
              " (219, 129),\n",
              " (129, 111),\n",
              " (111, 954),\n",
              " (954, 260),\n",
              " (260, 50),\n",
              " (50, 43),\n",
              " (43, 38),\n",
              " (38, 315),\n",
              " (315, 7),\n",
              " (7, 23),\n",
              " (23, 546),\n",
              " (546, 3),\n",
              " (3, 150),\n",
              " (150, 259),\n",
              " (259, 6),\n",
              " (6, 2712),\n",
              " (2712, 14),\n",
              " (14, 24),\n",
              " (24, 957)]"
            ]
          },
          "metadata": {
            "tags": []
          },
          "execution_count": 24
        }
      ]
    },
    {
      "cell_type": "code",
      "metadata": {
        "id": "HXssaHh8hPYH",
        "colab_type": "code",
        "outputId": "62a67058-8251-4fd4-9ae2-813f155da193",
        "colab": {
          "base_uri": "https://localhost:8080/",
          "height": 1000
        }
      },
      "source": [
        "tokenizer.index_word"
      ],
      "execution_count": 0,
      "outputs": [
        {
          "output_type": "execute_result",
          "data": {
            "text/plain": [
              "{1: 'the',\n",
              " 2: 'a',\n",
              " 3: 'and',\n",
              " 4: 'of',\n",
              " 5: 'i',\n",
              " 6: 'to',\n",
              " 7: 'in',\n",
              " 8: 'it',\n",
              " 9: 'that',\n",
              " 10: 'he',\n",
              " 11: 'his',\n",
              " 12: 'was',\n",
              " 13: 'but',\n",
              " 14: 'me',\n",
              " 15: 'with',\n",
              " 16: 'as',\n",
              " 17: 'at',\n",
              " 18: 'this',\n",
              " 19: 'you',\n",
              " 20: 'is',\n",
              " 21: 'all',\n",
              " 22: 'for',\n",
              " 23: 'my',\n",
              " 24: 'on',\n",
              " 25: 'be',\n",
              " 26: \"'s\",\n",
              " 27: 'not',\n",
              " 28: 'from',\n",
              " 29: 'there',\n",
              " 30: 'one',\n",
              " 31: 'up',\n",
              " 32: 'what',\n",
              " 33: 'him',\n",
              " 34: 'so',\n",
              " 35: 'bed',\n",
              " 36: 'now',\n",
              " 37: 'about',\n",
              " 38: 'no',\n",
              " 39: 'into',\n",
              " 40: 'by',\n",
              " 41: 'were',\n",
              " 42: 'out',\n",
              " 43: 'or',\n",
              " 44: 'harpooneer',\n",
              " 45: 'had',\n",
              " 46: 'then',\n",
              " 47: 'have',\n",
              " 48: 'an',\n",
              " 49: 'upon',\n",
              " 50: 'little',\n",
              " 51: 'some',\n",
              " 52: 'old',\n",
              " 53: 'like',\n",
              " 54: 'if',\n",
              " 55: 'they',\n",
              " 56: 'would',\n",
              " 57: 'do',\n",
              " 58: 'over',\n",
              " 59: 'landlord',\n",
              " 60: 'thought',\n",
              " 61: 'room',\n",
              " 62: 'when',\n",
              " 63: 'could',\n",
              " 64: \"n't\",\n",
              " 65: 'night',\n",
              " 66: 'here',\n",
              " 67: 'head',\n",
              " 68: 'such',\n",
              " 69: 'which',\n",
              " 70: 'man',\n",
              " 71: 'did',\n",
              " 72: 'sea',\n",
              " 73: 'time',\n",
              " 74: 'other',\n",
              " 75: 'very',\n",
              " 76: 'go',\n",
              " 77: 'these',\n",
              " 78: 'more',\n",
              " 79: 'though',\n",
              " 80: 'first',\n",
              " 81: 'sort',\n",
              " 82: 'said',\n",
              " 83: 'last',\n",
              " 84: 'down',\n",
              " 85: 'most',\n",
              " 86: 'been',\n",
              " 87: 'never',\n",
              " 88: 'your',\n",
              " 89: 'them',\n",
              " 90: 'must',\n",
              " 91: 'tell',\n",
              " 92: 'much',\n",
              " 93: 'good',\n",
              " 94: 'see',\n",
              " 95: 'off',\n",
              " 96: 'myself',\n",
              " 97: 'are',\n",
              " 98: 'yet',\n",
              " 99: 'sleep',\n",
              " 100: 'who',\n",
              " 101: 'seemed',\n",
              " 102: 'light',\n",
              " 103: 'way',\n",
              " 104: 'their',\n",
              " 105: 'just',\n",
              " 106: 'being',\n",
              " 107: 'than',\n",
              " 108: 'place',\n",
              " 109: 'queequeg',\n",
              " 110: 'great',\n",
              " 111: 'long',\n",
              " 112: 'before',\n",
              " 113: 'get',\n",
              " 114: 'round',\n",
              " 115: 'where',\n",
              " 116: 'still',\n",
              " 117: 'any',\n",
              " 118: 'too',\n",
              " 119: 'only',\n",
              " 120: 'door',\n",
              " 121: 'can',\n",
              " 122: 'himself',\n",
              " 123: 'heads',\n",
              " 124: 'come',\n",
              " 125: 'ever',\n",
              " 126: 'two',\n",
              " 127: 'enough',\n",
              " 128: 'made',\n",
              " 129: 'how',\n",
              " 130: 'hand',\n",
              " 131: 'same',\n",
              " 132: 'looking',\n",
              " 133: 'something',\n",
              " 134: 'may',\n",
              " 135: \"'\",\n",
              " 136: 'almost',\n",
              " 137: 'say',\n",
              " 138: 'should',\n",
              " 139: 'side',\n",
              " 140: 'why',\n",
              " 141: 'own',\n",
              " 142: 'we',\n",
              " 143: 'new',\n",
              " 144: 'again',\n",
              " 145: 'came',\n",
              " 146: 'arm',\n",
              " 147: 'house',\n",
              " 148: 'away',\n",
              " 149: 'might',\n",
              " 150: 'nothing',\n",
              " 151: 'take',\n",
              " 152: 'towards',\n",
              " 153: 'will',\n",
              " 154: 'under',\n",
              " 155: 'going',\n",
              " 156: 'make',\n",
              " 157: 'whale',\n",
              " 158: 'stood',\n",
              " 159: 'boots',\n",
              " 160: 'ye',\n",
              " 161: 'back',\n",
              " 162: \"'ll\",\n",
              " 163: 'tomahawk',\n",
              " 164: 'part',\n",
              " 165: 'world',\n",
              " 166: 'soon',\n",
              " 167: 'water',\n",
              " 168: 'against',\n",
              " 169: 'those',\n",
              " 170: 'between',\n",
              " 171: 'after',\n",
              " 172: 'whaling',\n",
              " 173: 'lay',\n",
              " 174: 'took',\n",
              " 175: 'half',\n",
              " 176: 'began',\n",
              " 177: 'face',\n",
              " 178: 'streets',\n",
              " 179: 'land',\n",
              " 180: 'better',\n",
              " 181: 'once',\n",
              " 182: 'voyage',\n",
              " 183: 'give',\n",
              " 184: 'rather',\n",
              " 185: 'well',\n",
              " 186: 'however',\n",
              " 187: 'else',\n",
              " 188: 'heard',\n",
              " 189: 'put',\n",
              " 190: 'stop',\n",
              " 191: 'dark',\n",
              " 192: 'went',\n",
              " 193: 'black',\n",
              " 194: 'window',\n",
              " 195: 'cannibal',\n",
              " 196: 'fire',\n",
              " 197: 'every',\n",
              " 198: 'ship',\n",
              " 199: 'stand',\n",
              " 200: 'strange',\n",
              " 201: 'without',\n",
              " 202: 'feet',\n",
              " 203: 'whether',\n",
              " 204: 'because',\n",
              " 205: 'eyes',\n",
              " 206: 'think',\n",
              " 207: 'thinks',\n",
              " 208: 'idea',\n",
              " 209: 'bag',\n",
              " 210: 'nantucket',\n",
              " 211: 'late',\n",
              " 212: 'cold',\n",
              " 213: 'our',\n",
              " 214: 'found',\n",
              " 215: 'full',\n",
              " 216: 'morning',\n",
              " 217: 'sleeping',\n",
              " 218: 'got',\n",
              " 219: 'mind',\n",
              " 220: 'her',\n",
              " 221: 'right',\n",
              " 222: 'its',\n",
              " 223: 'look',\n",
              " 224: 'town',\n",
              " 225: 'south',\n",
              " 226: 'does',\n",
              " 227: 'let',\n",
              " 228: 'set',\n",
              " 229: 'yourself',\n",
              " 230: 'image',\n",
              " 231: 'saw',\n",
              " 232: 'am',\n",
              " 233: 'besides',\n",
              " 234: 'sailor',\n",
              " 235: 'seas',\n",
              " 236: 'rolled',\n",
              " 237: 'till',\n",
              " 238: 'day',\n",
              " 239: 'sign',\n",
              " 240: 'looked',\n",
              " 241: 'hard',\n",
              " 242: 'moment',\n",
              " 243: 'corner',\n",
              " 244: 'entry',\n",
              " 245: 'four',\n",
              " 246: 'wall',\n",
              " 247: 'savage',\n",
              " 248: 'table',\n",
              " 249: 'indeed',\n",
              " 250: 'bench',\n",
              " 251: 'chest',\n",
              " 252: 'while',\n",
              " 253: 'stranger',\n",
              " 254: 'possible',\n",
              " 255: 'feeling',\n",
              " 256: 'floor',\n",
              " 257: 'squares',\n",
              " 258: 'hat',\n",
              " 259: 'particular',\n",
              " 260: 'having',\n",
              " 261: 'years',\n",
              " 262: 'harpoon',\n",
              " 263: 'ishmael',\n",
              " 264: 'whenever',\n",
              " 265: 'mouth',\n",
              " 266: 'high',\n",
              " 267: 'knew',\n",
              " 268: 'men',\n",
              " 269: 'hours',\n",
              " 270: 'green',\n",
              " 271: 'bit',\n",
              " 272: 'within',\n",
              " 273: 'picture',\n",
              " 274: 'told',\n",
              " 275: 'story',\n",
              " 276: 'mean',\n",
              " 277: 'speak',\n",
              " 278: 'order',\n",
              " 279: 'making',\n",
              " 280: 'even',\n",
              " 281: 'perhaps',\n",
              " 282: 'things',\n",
              " 283: 'answer',\n",
              " 284: 'parts',\n",
              " 285: 'wild',\n",
              " 286: 'reason',\n",
              " 287: 'young',\n",
              " 288: 'craft',\n",
              " 289: 'business',\n",
              " 290: 'dead',\n",
              " 291: 'another',\n",
              " 292: 'middle',\n",
              " 293: 'sure',\n",
              " 294: 'candle',\n",
              " 295: 'presently',\n",
              " 296: 'low',\n",
              " 297: 'turned',\n",
              " 298: 'teeth',\n",
              " 299: 'dim',\n",
              " 300: 'euroclydon',\n",
              " 301: 'kept',\n",
              " 302: 'glass',\n",
              " 303: 'afterwards',\n",
              " 304: 'large',\n",
              " 305: 'three',\n",
              " 306: 'telling',\n",
              " 307: 'getting',\n",
              " 308: 'small',\n",
              " 309: 'next',\n",
              " 310: 'seeing',\n",
              " 311: 'sell',\n",
              " 312: 'felt',\n",
              " 313: 'sun',\n",
              " 314: 'e',\n",
              " 315: 'money',\n",
              " 316: 'sail',\n",
              " 317: 'coffin',\n",
              " 318: 'especially',\n",
              " 319: 'street',\n",
              " 320: 'city',\n",
              " 321: 'few',\n",
              " 322: 'previous',\n",
              " 323: 'sight',\n",
              " 324: 'days',\n",
              " 325: 'straight',\n",
              " 326: 'nigh',\n",
              " 327: 'legs',\n",
              " 328: 'try',\n",
              " 329: 'yes',\n",
              " 330: 'unless',\n",
              " 331: 'poor',\n",
              " 332: 'coat',\n",
              " 333: 'passenger',\n",
              " 334: 'taking',\n",
              " 335: 'true',\n",
              " 336: 'thing',\n",
              " 337: 'ai',\n",
              " 338: 'always',\n",
              " 339: 'us',\n",
              " 340: 'really',\n",
              " 341: 'marvellous',\n",
              " 342: 'heaven',\n",
              " 343: 'air',\n",
              " 344: 'far',\n",
              " 345: 'second',\n",
              " 346: 'many',\n",
              " 347: 'has',\n",
              " 348: 'unaccountable',\n",
              " 349: 'grand',\n",
              " 350: 'jolly',\n",
              " 351: 'open',\n",
              " 352: 'shirt',\n",
              " 353: 'cape',\n",
              " 354: 'bedford',\n",
              " 355: 'fine',\n",
              " 356: 'further',\n",
              " 357: 'ice',\n",
              " 358: 'frost',\n",
              " 359: 'foot',\n",
              " 360: 'wide',\n",
              " 361: 'white',\n",
              " 362: 'tall',\n",
              " 363: 'i.',\n",
              " 364: 'wooden',\n",
              " 365: 'worse',\n",
              " 366: 'death',\n",
              " 367: 'mine',\n",
              " 368: 'lazarus',\n",
              " 369: 'keep',\n",
              " 370: 'along',\n",
              " 371: 'hung',\n",
              " 372: 'throwing',\n",
              " 373: 'centre',\n",
              " 374: 'rest',\n",
              " 375: 'fact',\n",
              " 376: 'hair',\n",
              " 377: 'broken',\n",
              " 378: 'kill',\n",
              " 379: 'through',\n",
              " 380: 'chimney',\n",
              " 381: 'fancy',\n",
              " 382: 'bar',\n",
              " 383: 'trying',\n",
              " 384: 'dumplings',\n",
              " 385: 'heavens',\n",
              " 386: 'manner',\n",
              " 387: 'devil',\n",
              " 388: 'together',\n",
              " 389: 'seen',\n",
              " 390: 'deal',\n",
              " 391: 'know',\n",
              " 392: 'skin',\n",
              " 393: 'ca',\n",
              " 394: 'shavings',\n",
              " 395: 'peddling',\n",
              " 396: 'sunday',\n",
              " 397: 'counterpane',\n",
              " 398: 'mat',\n",
              " 399: 'christian',\n",
              " 400: 'commenced',\n",
              " 401: 'thinking',\n",
              " 402: 'similar',\n",
              " 403: 'afraid',\n",
              " 404: 'length',\n",
              " 405: 'idol',\n",
              " 406: 'sabbee',\n",
              " 407: 'waking',\n",
              " 408: 'ago',\n",
              " 409: 'find',\n",
              " 410: 'damp',\n",
              " 411: 'soul',\n",
              " 412: 'strong',\n",
              " 413: 'account',\n",
              " 414: 'sword',\n",
              " 415: 'quietly',\n",
              " 416: 'degree',\n",
              " 417: 'left',\n",
              " 418: 'around',\n",
              " 419: 'fixed',\n",
              " 420: 'ships',\n",
              " 421: 'miles',\n",
              " 422: 'country',\n",
              " 423: 'stream',\n",
              " 424: 'lead',\n",
              " 425: 'american',\n",
              " 426: 'artist',\n",
              " 427: 'each',\n",
              " 428: 'goes',\n",
              " 429: 'deep',\n",
              " 430: 'distant',\n",
              " 431: 'winds',\n",
              " 432: 'blue',\n",
              " 433: 'among',\n",
              " 434: 'suddenly',\n",
              " 435: 'feel',\n",
              " 436: 'meaning',\n",
              " 437: 'phantom',\n",
              " 438: 'life',\n",
              " 439: 'passengers',\n",
              " 440: 'nor',\n",
              " 441: 'kind',\n",
              " 442: 'quite',\n",
              " 443: 'care',\n",
              " 444: 'board',\n",
              " 445: 'somehow',\n",
              " 446: 'broiled',\n",
              " 447: 'mast',\n",
              " 448: 'sense',\n",
              " 449: 'knowing',\n",
              " 450: 'either',\n",
              " 451: 'passed',\n",
              " 452: 'hands',\n",
              " 453: 'paying',\n",
              " 454: 'pay',\n",
              " 455: 'penny',\n",
              " 456: 'sailors',\n",
              " 457: 'exactly',\n",
              " 458: 'short',\n",
              " 459: 'easy',\n",
              " 460: 'portentous',\n",
              " 461: 'island',\n",
              " 462: 'nameless',\n",
              " 463: 'sounds',\n",
              " 464: 'since',\n",
              " 465: 'snow',\n",
              " 466: 'saturday',\n",
              " 467: 'matter',\n",
              " 468: 'red',\n",
              " 469: 'partly',\n",
              " 470: 'ere',\n",
              " 471: 'became',\n",
              " 472: 'meanwhile',\n",
              " 473: 'pocket',\n",
              " 474: 'darkness',\n",
              " 475: 'fish',\n",
              " 476: 'inn',\n",
              " 477: 'watch',\n",
              " 478: 'broad',\n",
              " 479: 'entering',\n",
              " 480: 'ha',\n",
              " 481: 'ashes',\n",
              " 482: 'opened',\n",
              " 483: 'spouter',\n",
              " 484: 'name',\n",
              " 485: 'suppose',\n",
              " 486: 'quiet',\n",
              " 487: 'best',\n",
              " 488: 'tempestuous',\n",
              " 489: 'says',\n",
              " 490: 'thou',\n",
              " 491: 'both',\n",
              " 492: 'occurred',\n",
              " 493: 'dives',\n",
              " 494: 'holding',\n",
              " 495: 'frozen',\n",
              " 496: 'altogether',\n",
              " 497: 'plain',\n",
              " 498: 'whom',\n",
              " 499: 'clean',\n",
              " 500: 'human',\n",
              " 501: 'entered',\n",
              " 502: 'wrinkled',\n",
              " 503: 'shelf',\n",
              " 504: 'jonah',\n",
              " 505: 'blanket',\n",
              " 506: \"goin'\",\n",
              " 507: 'bitter',\n",
              " 508: 'supper',\n",
              " 509: 'sat',\n",
              " 510: 'settle',\n",
              " 511: 'chap',\n",
              " 512: 'help',\n",
              " 513: 'spend',\n",
              " 514: 'landed',\n",
              " 515: 'standing',\n",
              " 516: 'held',\n",
              " 517: 'somewhat',\n",
              " 518: 'sober',\n",
              " 519: 'whole',\n",
              " 520: 'dam',\n",
              " 521: 'brown',\n",
              " 522: 'bulkington',\n",
              " 523: \"o'clock\",\n",
              " 524: 'none',\n",
              " 525: 'coming',\n",
              " 526: \"'ve\",\n",
              " 527: 'wait',\n",
              " 528: 'plane',\n",
              " 529: 'saying',\n",
              " 530: 'grinning',\n",
              " 531: 'placed',\n",
              " 532: 'shouted',\n",
              " 533: 'bedfellow',\n",
              " 534: 'zealand',\n",
              " 535: 'sal',\n",
              " 536: 'wash',\n",
              " 537: 'thrown',\n",
              " 538: 'purplish',\n",
              " 539: 'turn',\n",
              " 540: 'completely',\n",
              " 541: 'fear',\n",
              " 542: 'grego',\n",
              " 543: 'baby',\n",
              " 544: 'slowly',\n",
              " 545: 'civilized',\n",
              " 546: 'purse',\n",
              " 547: 'monkey',\n",
              " 548: 'involuntarily',\n",
              " 549: 'pausing',\n",
              " 550: 'warehouses',\n",
              " 551: 'requires',\n",
              " 552: 'people',\n",
              " 553: 'nearly',\n",
              " 554: 'ocean',\n",
              " 555: 'indian',\n",
              " 556: 'waterward',\n",
              " 557: 'battery',\n",
              " 558: 'noble',\n",
              " 559: 'washed',\n",
              " 560: 'crowds',\n",
              " 561: 'sabbath',\n",
              " 562: 'afternoon',\n",
              " 563: 'thence',\n",
              " 564: 'silent',\n",
              " 565: 'thousands',\n",
              " 566: 'reveries',\n",
              " 567: 'leaning',\n",
              " 568: 'seated',\n",
              " 569: 'bulwarks',\n",
              " 570: 'aloft',\n",
              " 571: 'week',\n",
              " 572: 'plaster',\n",
              " 573: 'gone',\n",
              " 574: 'bound',\n",
              " 575: 'content',\n",
              " 576: 'yonder',\n",
              " 577: 'falling',\n",
              " 578: 'north',\n",
              " 579: 'please',\n",
              " 580: 'ten',\n",
              " 581: 'leaves',\n",
              " 582: 'magic',\n",
              " 583: 'plunged',\n",
              " 584: 'metaphysical',\n",
              " 585: 'chief',\n",
              " 586: 'trunk',\n",
              " 587: 'meadow',\n",
              " 588: 'smoke',\n",
              " 589: 'reaching',\n",
              " 590: 'hill',\n",
              " 591: 'thus',\n",
              " 592: 'pine',\n",
              " 593: 'sighs',\n",
              " 594: 'shepherd',\n",
              " 595: 'june',\n",
              " 596: 'scores',\n",
              " 597: 'thousand',\n",
              " 598: 'sadly',\n",
              " 599: 'robust',\n",
              " 600: 'healthy',\n",
              " 601: 'boy',\n",
              " 602: 'crazy',\n",
              " 603: 'hold',\n",
              " 604: 'holy',\n",
              " 605: 'brother',\n",
              " 606: 'ourselves',\n",
              " 607: 'begin',\n",
              " 608: 'grow',\n",
              " 609: 'inferred',\n",
              " 610: 'needs',\n",
              " 611: \"don't\",\n",
              " 612: 'themselves',\n",
              " 613: 'commodore',\n",
              " 614: 'captain',\n",
              " 615: 'cook',\n",
              " 616: 'glory',\n",
              " 617: 'whatsoever',\n",
              " 618: 'confess',\n",
              " 619: 'officer',\n",
              " 620: 'respectfully',\n",
              " 621: 'horse',\n",
              " 622: 'huge',\n",
              " 623: 'houses',\n",
              " 624: 'forecastle',\n",
              " 625: 'jump',\n",
              " 626: 'spar',\n",
              " 627: 'particularly',\n",
              " 628: 'putting',\n",
              " 629: 'tar',\n",
              " 630: 'schoolmaster',\n",
              " 631: 'boys',\n",
              " 632: 'transition',\n",
              " 633: 'grin',\n",
              " 634: 'bear',\n",
              " 635: 'hunks',\n",
              " 636: 'sweep',\n",
              " 637: 'weighed',\n",
              " 638: 'anything',\n",
              " 639: 'less',\n",
              " 640: 'thump',\n",
              " 641: 'point',\n",
              " 642: 'view',\n",
              " 643: 'single',\n",
              " 644: 'difference',\n",
              " 645: 'act',\n",
              " 646: 'uncomfortable',\n",
              " 647: 'compare',\n",
              " 648: 'earthly',\n",
              " 649: 'enter',\n",
              " 650: 'deck',\n",
              " 651: 'quarter',\n",
              " 652: 'leaders',\n",
              " 653: 'smelt',\n",
              " 654: 'fates',\n",
              " 655: 'doubtless',\n",
              " 656: 'formed',\n",
              " 657: 'run',\n",
              " 658: 'stage',\n",
              " 659: 'shabby',\n",
              " 660: 'others',\n",
              " 661: 'circumstances',\n",
              " 662: 'motives',\n",
              " 663: 'various',\n",
              " 664: 'mysterious',\n",
              " 665: 'curiosity',\n",
              " 666: 'tormented',\n",
              " 667: 'everlasting',\n",
              " 668: 'wonder',\n",
              " 669: 'purpose',\n",
              " 670: 'floated',\n",
              " 671: 'stuffed',\n",
              " 672: 'horn',\n",
              " 673: 'arrived',\n",
              " 674: 'offer',\n",
              " 675: 'following',\n",
              " 676: 'embark',\n",
              " 677: 'pleased',\n",
              " 678: 'original',\n",
              " 679: 'stranded',\n",
              " 680: 'leviathan',\n",
              " 681: 'whales',\n",
              " 682: 'nay',\n",
              " 683: 'dismal',\n",
              " 684: 'wherever',\n",
              " 685: 'dreary',\n",
              " 686: 'crossed',\n",
              " 687: 'expensive',\n",
              " 688: 'bright',\n",
              " 689: 'windows',\n",
              " 690: 'packed',\n",
              " 691: 'inches',\n",
              " 692: 'thick',\n",
              " 693: 'hear',\n",
              " 694: 'tinkling',\n",
              " 695: 'glasses',\n",
              " 696: 'blackness',\n",
              " 697: 'moving',\n",
              " 698: 'hour',\n",
              " 699: 'proved',\n",
              " 700: 'meant',\n",
              " 701: 'public',\n",
              " 702: 'box',\n",
              " 703: 'flying',\n",
              " 704: 'harpoons',\n",
              " 705: 'trap',\n",
              " 706: 'loud',\n",
              " 707: 'voice',\n",
              " 708: 'sitting',\n",
              " 709: 'beyond',\n",
              " 710: 'negro',\n",
              " 711: 'creaking',\n",
              " 712: 'swinging',\n",
              " 713: 'painting',\n",
              " 714: 'representing',\n",
              " 715: 'connexion',\n",
              " 716: 'peter',\n",
              " 717: 'itself',\n",
              " 718: 'carted',\n",
              " 719: 'burnt',\n",
              " 720: 'spot',\n",
              " 721: 'queer',\n",
              " 722: 'gable',\n",
              " 723: 'ended',\n",
              " 724: 'sharp',\n",
              " 725: 'wind',\n",
              " 726: 'howling',\n",
              " 727: 'nevertheless',\n",
              " 728: 'called',\n",
              " 729: 'outside',\n",
              " 730: 'passage',\n",
              " 731: 'body',\n",
              " 732: 'curbstone',\n",
              " 733: 'corn',\n",
              " 734: 'pooh',\n",
              " 735: 'northern',\n",
              " 736: 'lights',\n",
              " 737: 'summer',\n",
              " 738: 'lengthwise',\n",
              " 739: 'gods',\n",
              " 740: 'lie',\n",
              " 741: 'plenty',\n",
              " 742: 'study',\n",
              " 743: 'series',\n",
              " 744: 'arrive',\n",
              " 745: 'shadows',\n",
              " 746: 'dint',\n",
              " 747: 'conclusion',\n",
              " 748: 'confounded',\n",
              " 749: 'limber',\n",
              " 750: 'truly',\n",
              " 751: 'drive',\n",
              " 752: 'unimaginable',\n",
              " 753: 'midnight',\n",
              " 754: 'unnatural',\n",
              " 755: 'breaking',\n",
              " 756: 'design',\n",
              " 757: 'opposite',\n",
              " 758: 'monstrous',\n",
              " 759: 'knots',\n",
              " 760: 'vast',\n",
              " 761: 'handle',\n",
              " 762: 'wondered',\n",
              " 763: 'mixed',\n",
              " 764: 'deformed',\n",
              " 765: 'flung',\n",
              " 766: 'iron',\n",
              " 767: 'arched',\n",
              " 768: 'cut',\n",
              " 769: 'times',\n",
              " 770: 'beneath',\n",
              " 771: 'covered',\n",
              " 772: 'gathered',\n",
              " 773: 'stands',\n",
              " 774: 'rude',\n",
              " 775: 'bone',\n",
              " 776: 'abominable',\n",
              " 777: 'measure',\n",
              " 778: 'seamen',\n",
              " 779: 'skrimshander',\n",
              " 780: 'sought',\n",
              " 781: 'added',\n",
              " 782: 'forehead',\n",
              " 783: 'objections',\n",
              " 784: \"'d\",\n",
              " 785: 'used',\n",
              " 786: 'depend',\n",
              " 787: 'decent',\n",
              " 788: 'want',\n",
              " 789: 'ready',\n",
              " 790: 'working',\n",
              " 791: 'space',\n",
              " 792: 'lips',\n",
              " 793: 'fingers',\n",
              " 794: 'fare',\n",
              " 795: 'fellow',\n",
              " 796: 'nightmare',\n",
              " 797: 'nt',\n",
              " 798: 'complexioned',\n",
              " 799: 'eats',\n",
              " 800: \"'em\",\n",
              " 801: 'afore',\n",
              " 802: 'resolved',\n",
              " 803: 'noise',\n",
              " 804: 'offing',\n",
              " 805: 'shaggy',\n",
              " 806: 'woollen',\n",
              " 807: 'stiff',\n",
              " 808: 'labrador',\n",
              " 809: 'wake',\n",
              " 810: 'bad',\n",
              " 811: 'mounted',\n",
              " 812: 'generally',\n",
              " 813: 'shipmates',\n",
              " 814: 'become',\n",
              " 815: 'height',\n",
              " 816: 'seem',\n",
              " 817: 'plan',\n",
              " 818: 'private',\n",
              " 819: 'unknown',\n",
              " 820: 'apartment',\n",
              " 821: 'hammock',\n",
              " 822: 'linen',\n",
              " 823: 'home',\n",
              " 824: 'hole',\n",
              " 825: 'mattress',\n",
              " 826: 'planing',\n",
              " 827: 'knot',\n",
              " 828: 'near',\n",
              " 829: 'sake',\n",
              " 830: 'chair',\n",
              " 831: 'narrow',\n",
              " 832: 'leaving',\n",
              " 833: 'interval',\n",
              " 834: 'met',\n",
              " 835: 'inside',\n",
              " 836: 'violent',\n",
              " 837: 'ones',\n",
              " 838: 'comprehension',\n",
              " 839: 'bird',\n",
              " 840: 'airley',\n",
              " 841: 'airth',\n",
              " 842: 'engaged',\n",
              " 843: 'whittling',\n",
              " 844: 'guess',\n",
              " 845: 'done',\n",
              " 846: 'break',\n",
              " 847: 'broke',\n",
              " 848: 'understand',\n",
              " 849: 'certain',\n",
              " 850: 'demand',\n",
              " 851: 'selling',\n",
              " 852: 'sir',\n",
              " 853: 'string',\n",
              " 854: 'mystery',\n",
              " 855: 'showed',\n",
              " 856: 'dangerous',\n",
              " 857: 'flukes',\n",
              " 858: 'slept',\n",
              " 859: 'big',\n",
              " 860: 'sam',\n",
              " 861: 'lighted',\n",
              " 862: 'wo',\n",
              " 863: 'stairs',\n",
              " 864: 'placing',\n",
              " 865: 'double',\n",
              " 866: 'eyeing',\n",
              " 867: 'belonging',\n",
              " 868: 'papered',\n",
              " 869: 'parcel',\n",
              " 870: 'tried',\n",
              " 871: 'satisfactory',\n",
              " 872: 'concerning',\n",
              " 873: 'edges',\n",
              " 874: 'stuck',\n",
              " 875: 'gave',\n",
              " 876: 'neck',\n",
              " 877: 'sleeves',\n",
              " 878: 'undressed',\n",
              " 879: 'remembering',\n",
              " 880: 'jumped',\n",
              " 881: 'pantaloons',\n",
              " 882: 'blowing',\n",
              " 883: 'doze',\n",
              " 884: 'pretty',\n",
              " 885: 'heavy',\n",
              " 886: 'save',\n",
              " 887: 'infernal',\n",
              " 888: 'peddler',\n",
              " 889: 'yellow',\n",
              " 890: 'colour',\n",
              " 891: 'dreadfully',\n",
              " 892: 'sticking',\n",
              " 893: 'cheeks',\n",
              " 894: 'truth',\n",
              " 895: 'remembered',\n",
              " 896: 'whaleman',\n",
              " 897: 'tattooed',\n",
              " 898: 'concluded',\n",
              " 899: 'lying',\n",
              " 900: 'tanning',\n",
              " 901: 'hot',\n",
              " 902: 'produced',\n",
              " 903: 'beaver',\n",
              " 904: 'singing',\n",
              " 905: 'bolted',\n",
              " 906: 'arms',\n",
              " 907: 'running',\n",
              " 908: 'curious',\n",
              " 909: 'hunch',\n",
              " 910: 'congo',\n",
              " 911: 'ill',\n",
              " 912: 'takes',\n",
              " 913: 'biscuit',\n",
              " 914: 'top',\n",
              " 915: 'lamp',\n",
              " 916: 'succeeded',\n",
              " 917: 'polite',\n",
              " 918: 'guttural',\n",
              " 919: 'pagan',\n",
              " 920: 'spell',\n",
              " 921: 'tobacco',\n",
              " 922: 'grunt',\n",
              " 923: 'whatever',\n",
              " 924: 'ee',\n",
              " 925: 'horrid',\n",
              " 926: 'pipe',\n",
              " 927: 'smoking',\n",
              " 928: 'complied',\n",
              " 929: 'patchwork',\n",
              " 930: 'figure',\n",
              " 931: 'shade',\n",
              " 932: 'quilt',\n",
              " 933: 'hugging',\n",
              " 934: 'sensations',\n",
              " 935: 'explain',\n",
              " 936: 'remember',\n",
              " 937: 'circumstance',\n",
              " 938: 'reality',\n",
              " 939: 'stepmother',\n",
              " 940: 'sixteen',\n",
              " 941: 'abed',\n",
              " 942: 'troubled',\n",
              " 943: 'supernatural',\n",
              " 944: 'ages',\n",
              " 945: 'awful',\n",
              " 946: 'consciousness',\n",
              " 947: 'observing',\n",
              " 948: 'creature',\n",
              " 949: 'dress',\n",
              " 950: 'watching',\n",
              " 951: 'probably',\n",
              " 952: 'toilet',\n",
              " 953: 'wrapped',\n",
              " 954: 'precisely',\n",
              " 955: 'jacket',\n",
              " 956: 'call',\n",
              " 957: 'shore',\n",
              " 958: 'watery',\n",
              " 959: 'driving',\n",
              " 960: 'spleen',\n",
              " 961: 'regulating',\n",
              " 962: 'circulation',\n",
              " 963: 'growing',\n",
              " 964: 'grim',\n",
              " 965: 'drizzly',\n",
              " 966: 'november',\n",
              " 967: 'bringing',\n",
              " 968: 'rear',\n",
              " 969: 'funeral',\n",
              " 970: 'meet',\n",
              " 971: 'hypos',\n",
              " 972: 'upper',\n",
              " 973: 'moral',\n",
              " 974: 'principle',\n",
              " 975: 'prevent',\n",
              " 976: 'deliberately',\n",
              " 977: 'stepping',\n",
              " 978: 'methodically',\n",
              " 979: 'knocking',\n",
              " 980: 'hats',\n",
              " 981: 'substitute',\n",
              " 982: 'pistol',\n",
              " 983: 'ball',\n",
              " 984: 'philosophical',\n",
              " 985: 'flourish',\n",
              " 986: 'cato',\n",
              " 987: 'throws',\n",
              " 988: 'surprising',\n",
              " 989: 'cherish',\n",
              " 990: 'feelings',\n",
              " 991: 'insular',\n",
              " 992: 'manhattoes',\n",
              " 993: 'belted',\n",
              " 994: 'wharves',\n",
              " 995: 'isles',\n",
              " 996: 'coral',\n",
              " 997: 'reefs',\n",
              " 998: 'commerce',\n",
              " 999: 'surrounds',\n",
              " 1000: 'surf',\n",
              " ...}"
            ]
          },
          "metadata": {
            "tags": []
          },
          "execution_count": 25
        }
      ]
    },
    {
      "cell_type": "code",
      "metadata": {
        "id": "b4DcIZ_shUfv",
        "colab_type": "code",
        "outputId": "236dd963-609e-4f7e-8780-1918a37ece48",
        "colab": {
          "base_uri": "https://localhost:8080/",
          "height": 34
        }
      },
      "source": [
        "# tokenizer.word_counts\n",
        "vocab_size = len(tokenizer.word_counts)\n",
        "vocab_size"
      ],
      "execution_count": 0,
      "outputs": [
        {
          "output_type": "execute_result",
          "data": {
            "text/plain": [
              "2717"
            ]
          },
          "metadata": {
            "tags": []
          },
          "execution_count": 31
        }
      ]
    },
    {
      "cell_type": "code",
      "metadata": {
        "id": "nII4oT5Uhv81",
        "colab_type": "code",
        "outputId": "eb8712ef-85b1-43d7-90fc-c2e0b53d831d",
        "colab": {
          "base_uri": "https://localhost:8080/",
          "height": 139
        }
      },
      "source": [
        "import numpy as np\n",
        "sequences = np.array(sequences)\n",
        "sequences"
      ],
      "execution_count": 0,
      "outputs": [
        {
          "output_type": "execute_result",
          "data": {
            "text/plain": [
              "array([[ 956,   14,  263, ..., 2712,   14,   24],\n",
              "       [  14,  263,   51, ...,   14,   24,  957],\n",
              "       [ 263,   51,  261, ...,   24,  957,    5],\n",
              "       ...,\n",
              "       [ 952,   12,  166, ...,  262,   53,    2],\n",
              "       [  12,  166, 2711, ...,   53,    2, 2717],\n",
              "       [ 166, 2711,    3, ...,    2, 2717,   26]])"
            ]
          },
          "metadata": {
            "tags": []
          },
          "execution_count": 28
        }
      ]
    },
    {
      "cell_type": "markdown",
      "metadata": {
        "id": "nDH4yO96iRMP",
        "colab_type": "text"
      },
      "source": [
        "###Create Model"
      ]
    },
    {
      "cell_type": "code",
      "metadata": {
        "id": "a815JIHOiiBG",
        "colab_type": "code",
        "colab": {}
      },
      "source": [
        "from keras.utils import to_categorical"
      ],
      "execution_count": 0,
      "outputs": []
    },
    {
      "cell_type": "code",
      "metadata": {
        "id": "8iafQibLh-4_",
        "colab_type": "code",
        "colab": {}
      },
      "source": [
        "X = sequences[:, :-1]\n",
        "y = sequences[:, -1]"
      ],
      "execution_count": 0,
      "outputs": []
    },
    {
      "cell_type": "code",
      "metadata": {
        "id": "_Tg5zTlKiup_",
        "colab_type": "code",
        "colab": {}
      },
      "source": [
        "y = to_categorical(y, num_classes=vocab_size+1)"
      ],
      "execution_count": 0,
      "outputs": []
    },
    {
      "cell_type": "code",
      "metadata": {
        "id": "b8kdO0o2jXed",
        "colab_type": "code",
        "outputId": "60b7b210-6d57-46c6-8589-301e9b6ae7aa",
        "colab": {
          "base_uri": "https://localhost:8080/",
          "height": 34
        }
      },
      "source": [
        "N, seq_len = X.shape\n",
        "N, seq_len"
      ],
      "execution_count": 0,
      "outputs": [
        {
          "output_type": "execute_result",
          "data": {
            "text/plain": [
              "(11312, 25)"
            ]
          },
          "metadata": {
            "tags": []
          },
          "execution_count": 33
        }
      ]
    },
    {
      "cell_type": "code",
      "metadata": {
        "id": "ZF2_fKnzjoSE",
        "colab_type": "code",
        "colab": {}
      },
      "source": [
        "from keras.models import Sequential\n",
        "from keras.layers import Dense, LSTM, Embedding"
      ],
      "execution_count": 0,
      "outputs": []
    },
    {
      "cell_type": "code",
      "metadata": {
        "id": "Wax7R3NrkEN9",
        "colab_type": "code",
        "colab": {}
      },
      "source": [
        "def create_model(vocab_size, seq_len):\n",
        "  model = Sequential()\n",
        "  model.add(Embedding(vocab_size, seq_len, input_length=seq_len))\n",
        "  model.add(LSTM(50, return_sequences=True))\n",
        "  model.add(LSTM(50))\n",
        "  model.add(Dense(50, activation = \"relu\"))\n",
        "\n",
        "  model.add(Dense(vocab_size, activation = \"softmax\"))\n",
        "  model.compile(loss = \"categorical_crossentropy\", optimizer = \"adam\", metrics = [\"accuracy\"])\n",
        "\n",
        "  model.summary()\n",
        "  return model"
      ],
      "execution_count": 0,
      "outputs": []
    },
    {
      "cell_type": "code",
      "metadata": {
        "id": "p0aZMn8omaSS",
        "colab_type": "code",
        "outputId": "5483b627-c4ab-4870-e2ef-ae88d3fd30b1",
        "colab": {
          "base_uri": "https://localhost:8080/",
          "height": 330
        }
      },
      "source": [
        "model = create_model(vocab_size+1, seq_len)"
      ],
      "execution_count": 0,
      "outputs": [
        {
          "output_type": "stream",
          "text": [
            "Model: \"sequential_2\"\n",
            "_________________________________________________________________\n",
            "Layer (type)                 Output Shape              Param #   \n",
            "=================================================================\n",
            "embedding_2 (Embedding)      (None, 25, 25)            67950     \n",
            "_________________________________________________________________\n",
            "lstm_3 (LSTM)                (None, 25, 50)            15200     \n",
            "_________________________________________________________________\n",
            "lstm_4 (LSTM)                (None, 50)                20200     \n",
            "_________________________________________________________________\n",
            "dense_3 (Dense)              (None, 50)                2550      \n",
            "_________________________________________________________________\n",
            "dense_4 (Dense)              (None, 2718)              138618    \n",
            "=================================================================\n",
            "Total params: 244,518\n",
            "Trainable params: 244,518\n",
            "Non-trainable params: 0\n",
            "_________________________________________________________________\n"
          ],
          "name": "stdout"
        }
      ]
    },
    {
      "cell_type": "code",
      "metadata": {
        "id": "KKGUIXPamm5q",
        "colab_type": "code",
        "outputId": "139e21ce-639e-45ce-969f-d95a5e581ad9",
        "colab": {
          "base_uri": "https://localhost:8080/",
          "height": 1000
        }
      },
      "source": [
        "model.fit(X, y, batch_size=128, epochs = 30)"
      ],
      "execution_count": 0,
      "outputs": [
        {
          "output_type": "stream",
          "text": [
            "WARNING:tensorflow:From /usr/local/lib/python3.6/dist-packages/tensorflow_core/python/ops/math_grad.py:1424: where (from tensorflow.python.ops.array_ops) is deprecated and will be removed in a future version.\n",
            "Instructions for updating:\n",
            "Use tf.where in 2.0, which has the same broadcast rule as np.where\n",
            "WARNING:tensorflow:From /usr/local/lib/python3.6/dist-packages/keras/backend/tensorflow_backend.py:1033: The name tf.assign_add is deprecated. Please use tf.compat.v1.assign_add instead.\n",
            "\n",
            "WARNING:tensorflow:From /usr/local/lib/python3.6/dist-packages/keras/backend/tensorflow_backend.py:1020: The name tf.assign is deprecated. Please use tf.compat.v1.assign instead.\n",
            "\n",
            "WARNING:tensorflow:From /usr/local/lib/python3.6/dist-packages/keras/backend/tensorflow_backend.py:3005: The name tf.Session is deprecated. Please use tf.compat.v1.Session instead.\n",
            "\n",
            "Epoch 1/30\n",
            "WARNING:tensorflow:From /usr/local/lib/python3.6/dist-packages/keras/backend/tensorflow_backend.py:190: The name tf.get_default_session is deprecated. Please use tf.compat.v1.get_default_session instead.\n",
            "\n",
            "WARNING:tensorflow:From /usr/local/lib/python3.6/dist-packages/keras/backend/tensorflow_backend.py:197: The name tf.ConfigProto is deprecated. Please use tf.compat.v1.ConfigProto instead.\n",
            "\n",
            "WARNING:tensorflow:From /usr/local/lib/python3.6/dist-packages/keras/backend/tensorflow_backend.py:207: The name tf.global_variables is deprecated. Please use tf.compat.v1.global_variables instead.\n",
            "\n",
            "WARNING:tensorflow:From /usr/local/lib/python3.6/dist-packages/keras/backend/tensorflow_backend.py:216: The name tf.is_variable_initialized is deprecated. Please use tf.compat.v1.is_variable_initialized instead.\n",
            "\n",
            "WARNING:tensorflow:From /usr/local/lib/python3.6/dist-packages/keras/backend/tensorflow_backend.py:223: The name tf.variables_initializer is deprecated. Please use tf.compat.v1.variables_initializer instead.\n",
            "\n",
            "11312/11312 [==============================] - 24s 2ms/step - loss: 6.9831 - acc: 0.0397\n",
            "Epoch 2/30\n",
            "11312/11312 [==============================] - 7s 619us/step - loss: 6.3757 - acc: 0.0529\n",
            "Epoch 3/30\n",
            "11312/11312 [==============================] - 7s 603us/step - loss: 6.3477 - acc: 0.0529\n",
            "Epoch 4/30\n",
            "11312/11312 [==============================] - 7s 606us/step - loss: 6.3370 - acc: 0.0529\n",
            "Epoch 5/30\n",
            "11312/11312 [==============================] - 7s 621us/step - loss: 6.3141 - acc: 0.0529\n",
            "Epoch 6/30\n",
            "11312/11312 [==============================] - 7s 606us/step - loss: 6.2039 - acc: 0.0529\n",
            "Epoch 7/30\n",
            "11312/11312 [==============================] - 7s 628us/step - loss: 6.1133 - acc: 0.0529\n",
            "Epoch 8/30\n",
            "11312/11312 [==============================] - 7s 603us/step - loss: 6.0086 - acc: 0.0549\n",
            "Epoch 9/30\n",
            "11312/11312 [==============================] - 7s 623us/step - loss: 5.9252 - acc: 0.0553\n",
            "Epoch 10/30\n",
            "11312/11312 [==============================] - 7s 631us/step - loss: 5.8635 - acc: 0.0607\n",
            "Epoch 11/30\n",
            "11312/11312 [==============================] - 7s 593us/step - loss: 5.8079 - acc: 0.0659\n",
            "Epoch 12/30\n",
            "11312/11312 [==============================] - 7s 608us/step - loss: 5.7585 - acc: 0.0676\n",
            "Epoch 13/30\n",
            "11312/11312 [==============================] - 7s 592us/step - loss: 5.7182 - acc: 0.0674\n",
            "Epoch 14/30\n",
            "11312/11312 [==============================] - 7s 608us/step - loss: 5.6820 - acc: 0.0697\n",
            "Epoch 15/30\n",
            "11312/11312 [==============================] - 7s 599us/step - loss: 5.6455 - acc: 0.0686\n",
            "Epoch 16/30\n",
            "11312/11312 [==============================] - 7s 615us/step - loss: 5.6137 - acc: 0.0716\n",
            "Epoch 17/30\n",
            "11312/11312 [==============================] - 7s 620us/step - loss: 5.5811 - acc: 0.0721\n",
            "Epoch 18/30\n",
            "11312/11312 [==============================] - 7s 626us/step - loss: 5.5498 - acc: 0.0750\n",
            "Epoch 19/30\n",
            "11312/11312 [==============================] - 7s 609us/step - loss: 5.5180 - acc: 0.0753\n",
            "Epoch 20/30\n",
            "11312/11312 [==============================] - 7s 600us/step - loss: 5.4880 - acc: 0.0766\n",
            "Epoch 21/30\n",
            "11312/11312 [==============================] - 7s 592us/step - loss: 5.4576 - acc: 0.0766\n",
            "Epoch 22/30\n",
            "11312/11312 [==============================] - 7s 606us/step - loss: 5.4269 - acc: 0.0796\n",
            "Epoch 23/30\n",
            "11312/11312 [==============================] - 7s 626us/step - loss: 5.3952 - acc: 0.0775\n",
            "Epoch 24/30\n",
            "11312/11312 [==============================] - 7s 601us/step - loss: 5.3618 - acc: 0.0806\n",
            "Epoch 25/30\n",
            "11312/11312 [==============================] - 7s 615us/step - loss: 5.3240 - acc: 0.0819\n",
            "Epoch 26/30\n",
            "11312/11312 [==============================] - 7s 620us/step - loss: 5.2844 - acc: 0.0836\n",
            "Epoch 27/30\n",
            "11312/11312 [==============================] - 7s 594us/step - loss: 5.2485 - acc: 0.0836\n",
            "Epoch 28/30\n",
            "11312/11312 [==============================] - 7s 605us/step - loss: 5.2137 - acc: 0.0842\n",
            "Epoch 29/30\n",
            "11312/11312 [==============================] - 7s 595us/step - loss: 5.1799 - acc: 0.0880\n",
            "Epoch 30/30\n",
            "11312/11312 [==============================] - 7s 593us/step - loss: 5.1521 - acc: 0.0858\n"
          ],
          "name": "stdout"
        },
        {
          "output_type": "execute_result",
          "data": {
            "text/plain": [
              "<keras.callbacks.History at 0x7fc566ddadd8>"
            ]
          },
          "metadata": {
            "tags": []
          },
          "execution_count": 38
        }
      ]
    },
    {
      "cell_type": "code",
      "metadata": {
        "id": "-VQ6sRAAn31S",
        "colab_type": "code",
        "colab": {}
      },
      "source": [
        "from pickle import dump, load"
      ],
      "execution_count": 0,
      "outputs": []
    },
    {
      "cell_type": "code",
      "metadata": {
        "id": "dbEzBjvynhSe",
        "colab_type": "code",
        "colab": {}
      },
      "source": [
        "model.save(\"moby_model.h5\")"
      ],
      "execution_count": 0,
      "outputs": []
    },
    {
      "cell_type": "code",
      "metadata": {
        "id": "uWleODHbnwRv",
        "colab_type": "code",
        "colab": {}
      },
      "source": [
        "dump(tokenizer, open(\"moby_tokenizer\", \"wb\"))"
      ],
      "execution_count": 0,
      "outputs": []
    },
    {
      "cell_type": "markdown",
      "metadata": {
        "id": "1csyk_twojvq",
        "colab_type": "text"
      },
      "source": [
        ""
      ]
    },
    {
      "cell_type": "code",
      "metadata": {
        "id": "n3F6lI8BpO1w",
        "colab_type": "code",
        "colab": {}
      },
      "source": [
        "from keras.preprocessing.sequence import pad_sequences"
      ],
      "execution_count": 0,
      "outputs": []
    },
    {
      "cell_type": "code",
      "metadata": {
        "id": "YKvTFBfiodOA",
        "colab_type": "code",
        "colab": {}
      },
      "source": [
        "def generate_text(model, tokenizer, seq_len, seed_text, num_gen_text):\n",
        "  output_text = []\n",
        "  input_text = seed_text\n",
        "\n",
        "  for i in range(num_gen_text):\n",
        "    encoded_text = tokenizer.texts_to_sequences([input_text])[0]\n",
        "    pad_encoded = pad_sequences([encoded_text], maxlen = seq_len, truncating = \"pre\")\n",
        "\n",
        "    pred_word_index = model.predict_classes(pad_encoded, verbose = 0)[0]\n",
        "\n",
        "    pred_word = tokenizer.index_word[pred_word_index]\n",
        "    input_text += \" \"+pred_word\n",
        "\n",
        "    output_text.append(pred_word)\n",
        "\n",
        "  return \" \".join(output_text)"
      ],
      "execution_count": 0,
      "outputs": []
    },
    {
      "cell_type": "code",
      "metadata": {
        "id": "9QeytcF1q1gY",
        "colab_type": "code",
        "outputId": "5fb855f0-41b0-41fe-87a2-0e125affbb3e",
        "colab": {
          "base_uri": "https://localhost:8080/",
          "height": 34
        }
      },
      "source": [
        "import random\n",
        "rand_seed_text = train_sequences[random.randint(0, len(train_sequences))]\n",
        "seed_text = \" \".join(rand_seed_text)\n",
        "seed_text"
      ],
      "execution_count": 0,
      "outputs": [
        {
          "output_type": "execute_result",
          "data": {
            "text/plain": [
              "'considered the matter a moment and then up stairs we went and i was ushered into a small room cold as a clam and furnished sure'"
            ]
          },
          "metadata": {
            "tags": []
          },
          "execution_count": 54
        }
      ]
    },
    {
      "cell_type": "code",
      "metadata": {
        "id": "17UuefSIsWZG",
        "colab_type": "code",
        "outputId": "eafe963a-0308-438e-c30b-20d619e99279",
        "colab": {
          "base_uri": "https://localhost:8080/",
          "height": 34
        }
      },
      "source": [
        "generate_text(model, tokenizer, seq_len, seed_text, 25)"
      ],
      "execution_count": 0,
      "outputs": [
        {
          "output_type": "execute_result",
          "data": {
            "text/plain": [
              "'was a room and a room and a room and a room and a room and a room and a room and a room and'"
            ]
          },
          "metadata": {
            "tags": []
          },
          "execution_count": 55
        }
      ]
    },
    {
      "cell_type": "markdown",
      "metadata": {
        "id": "LONJ1n7ktThE",
        "colab_type": "text"
      },
      "source": [
        "####It is not a good model I suppose. \n",
        "\n",
        "####So let's load a good trained model with more accuracy"
      ]
    },
    {
      "cell_type": "code",
      "metadata": {
        "id": "S7ZphYRzt8pX",
        "colab_type": "code",
        "colab": {}
      },
      "source": [
        "from keras.models import load_model"
      ],
      "execution_count": 0,
      "outputs": []
    },
    {
      "cell_type": "code",
      "metadata": {
        "id": "ftMBFz2XtfC6",
        "colab_type": "code",
        "colab": {}
      },
      "source": [
        "loaded_model = load_model(\"epochBIG.h5\")\n",
        "loaded_tokenizer = load(open(\"epochBIG\", \"rb\"))"
      ],
      "execution_count": 0,
      "outputs": []
    },
    {
      "cell_type": "code",
      "metadata": {
        "id": "LiSf-tF3vYbw",
        "colab_type": "code",
        "outputId": "e21c1509-6b86-41c5-a349-daa942aba03d",
        "colab": {
          "base_uri": "https://localhost:8080/",
          "height": 330
        }
      },
      "source": [
        "loaded_model.summary()"
      ],
      "execution_count": 0,
      "outputs": [
        {
          "output_type": "stream",
          "text": [
            "Model: \"sequential_1\"\n",
            "_________________________________________________________________\n",
            "Layer (type)                 Output Shape              Param #   \n",
            "=================================================================\n",
            "embedding_1 (Embedding)      (None, 25, 25)            431400    \n",
            "_________________________________________________________________\n",
            "lstm_1 (LSTM)                (None, 25, 150)           105600    \n",
            "_________________________________________________________________\n",
            "lstm_2 (LSTM)                (None, 150)               180600    \n",
            "_________________________________________________________________\n",
            "dense_1 (Dense)              (None, 150)               22650     \n",
            "_________________________________________________________________\n",
            "dense_2 (Dense)              (None, 17256)             2605656   \n",
            "=================================================================\n",
            "Total params: 3,345,906\n",
            "Trainable params: 3,345,906\n",
            "Non-trainable params: 0\n",
            "_________________________________________________________________\n"
          ],
          "name": "stdout"
        }
      ]
    },
    {
      "cell_type": "code",
      "metadata": {
        "id": "_HsjRFATuNf0",
        "colab_type": "code",
        "outputId": "0aa60ce7-6a43-4cb6-bc6c-1dcbd0eb11fd",
        "colab": {
          "base_uri": "https://localhost:8080/",
          "height": 34
        }
      },
      "source": [
        "generate_text(loaded_model, loaded_tokenizer, seq_len, seed_text, 25)"
      ],
      "execution_count": 0,
      "outputs": [
        {
          "output_type": "execute_result",
          "data": {
            "text/plain": [
              "\"enough to lift her sense of bulkington it 's the devil and what 's the matter with him i am strongly than before his own\""
            ]
          },
          "metadata": {
            "tags": []
          },
          "execution_count": 62
        }
      ]
    },
    {
      "cell_type": "code",
      "metadata": {
        "id": "r9YW70nguQiM",
        "colab_type": "code",
        "outputId": "c255269e-29ee-42d5-d6e5-bce64943f2b7",
        "colab": {
          "base_uri": "https://localhost:8080/",
          "height": 159
        }
      },
      "source": [
        "import random\n",
        "rand_seed_text = train_sequences[random.randint(0, len(train_sequences))]\n",
        "seed_text = \" \".join(rand_seed_text)\n",
        "print(\"================= Seed Text ==========================\\n\")\n",
        "print(seed_text)\n",
        "print(\"\\n================= Predicted Text ==========================\\n\")\n",
        "print(generate_text(loaded_model, loaded_tokenizer, seq_len, seed_text, 25))"
      ],
      "execution_count": 0,
      "outputs": [
        {
          "output_type": "stream",
          "text": [
            "================= Seed Text ==========================\n",
            "\n",
            "pot you have been lording it as a country schoolmaster making the tallest boys stand in awe of you the transition is a keen one i\n",
            "\n",
            "================= Predicted Text ==========================\n",
            "\n",
            "assure you it is monsieur consider the more compasses we 'll not he ever propose into board to ringbolts to construct final hand on the\n"
          ],
          "name": "stdout"
        }
      ]
    }
  ]
}